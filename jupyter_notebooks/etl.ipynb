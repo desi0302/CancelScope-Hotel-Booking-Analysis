{
 "cells": [
  {
   "cell_type": "markdown",
   "metadata": {
    "id": "0aStgWSO0E0E"
   },
   "source": [
    "# **Extract, Transform, Load**"
   ]
  },
  {
   "cell_type": "markdown",
   "metadata": {
    "id": "1eLEkw5O0ECa"
   },
   "source": [
    "## Objectives\n",
    "\n",
    "* Fetch data from Kaggle and save as raw data\n",
    "* Clean and transform data\n",
    "* Engineer features for modelling\n",
    "* Validate and document etl process\n",
    "\n",
    "## Inputs\n",
    "\n",
    "* data/raw/hotel_bookings.csv\n",
    "* Supporting Python libraries for data analysis and visualization\n",
    "\n",
    "## Outputs\n",
    "\n",
    "* hotel_bookings_clean.csv\n",
    "* hotel_bookings_sample.csv\n",
    "\n",
    "## Additional Comments\n",
    "\n",
    "- All cleaning and transformation steps were documented for transparency and future reproducibility.\n",
    "- Only relevant columns were retained based on their value to the analysis.\n",
    "- Outliers reflecting real-world scenarios were kept, not removed.\n",
    "\n"
   ]
  },
  {
   "cell_type": "markdown",
   "metadata": {
    "id": "9uWZXH9LwoQg"
   },
   "source": [
    "---"
   ]
  },
  {
   "cell_type": "markdown",
   "metadata": {
    "id": "cqP-UeN-z3i2"
   },
   "source": [
    "# Change working directory"
   ]
  },
  {
   "cell_type": "markdown",
   "metadata": {
    "id": "aOGIGS-uz3i2"
   },
   "source": [
    "The notebooks are stored in a subfolder, so to ensure correct file access when running them, the working directory needs to be changed from the notebook’s current folder to its parent folder. This is managed by accessing the current directory using os.getcwd() and then updating it as needed."
   ]
  },
  {
   "cell_type": "code",
   "execution_count": 1,
   "metadata": {
    "id": "wZfF_j-Bz3i4",
    "outputId": "66943449-1436-4c3d-85c7-b85f9f78349b"
   },
   "outputs": [
    {
     "data": {
      "text/plain": [
       "'d:\\\\vscode-projects\\\\CancelScope-Hotel-Booking-Analysis\\\\jupyter_notebooks'"
      ]
     },
     "execution_count": 1,
     "metadata": {},
     "output_type": "execute_result"
    }
   ],
   "source": [
    "import os\n",
    "current_dir = os.getcwd()\n",
    "current_dir"
   ]
  },
  {
   "cell_type": "markdown",
   "metadata": {
    "id": "9MWW8E7lz3i7"
   },
   "source": [
    "To set the parent folder as the working directory, os.path.dirname() is used to obtain the parent directory and os, and chdir() is used to update the current working directory accordingly."
   ]
  },
  {
   "cell_type": "code",
   "execution_count": 2,
   "metadata": {
    "id": "TwHsQRWjz3i9",
    "outputId": "86849db3-cd2f-4cc5-ebb8-2d0caafa1a2c"
   },
   "outputs": [
    {
     "name": "stdout",
     "output_type": "stream",
     "text": [
      "You set a new current directory\n"
     ]
    }
   ],
   "source": [
    "os.chdir(os.path.dirname(current_dir))\n",
    "print(\"You set a new current directory\")"
   ]
  },
  {
   "cell_type": "markdown",
   "metadata": {
    "id": "M_xPk_Ijz3i-"
   },
   "source": [
    "Confirm the new current directory"
   ]
  },
  {
   "cell_type": "code",
   "execution_count": 3,
   "metadata": {
    "id": "vz3S-_kjz3jA",
    "outputId": "00b79ae4-75d0-4a96-d193-ac9ef9847ea2"
   },
   "outputs": [
    {
     "data": {
      "text/plain": [
       "'d:\\\\vscode-projects\\\\CancelScope-Hotel-Booking-Analysis'"
      ]
     },
     "execution_count": 3,
     "metadata": {},
     "output_type": "execute_result"
    }
   ],
   "source": [
    "current_dir = os.getcwd()\n",
    "current_dir"
   ]
  },
  {
   "cell_type": "markdown",
   "metadata": {
    "id": "-mavJ8DibrcQ"
   },
   "source": [
    "# Data understanding, cleaning, preprocessing"
   ]
  },
  {
   "cell_type": "markdown",
   "metadata": {},
   "source": [
    "Importing neccessary libraries"
   ]
  },
  {
   "cell_type": "code",
   "execution_count": 4,
   "metadata": {},
   "outputs": [],
   "source": [
    "import numpy as np\n",
    "import pandas as pd\n",
    "import matplotlib.pyplot as plt\n",
    "import calendar"
   ]
  },
  {
   "cell_type": "markdown",
   "metadata": {},
   "source": [
    "Read and extract dataset"
   ]
  },
  {
   "cell_type": "code",
   "execution_count": 5,
   "metadata": {},
   "outputs": [],
   "source": [
    "df = pd.read_csv(os.path.join(current_dir, \"data\", \"raw\", \"hotel_bookings.csv\")) # Read the raw hotel bookings data"
   ]
  },
  {
   "cell_type": "markdown",
   "metadata": {},
   "source": [
    "The custom \"review_dataframe(df)\" function is used throughout the project to quickly generate a readable summary of any DataFrame. It prints the overall shape, number of duplicate rows, and for each column, displays the data type, count of missing values, number of unique entries, and a sample of values. This approach is very convenient and presents vital information in a user-friendly format, making it easier to understand the structure and quality of the dataset at a glance."
   ]
  },
  {
   "cell_type": "code",
   "execution_count": 6,
   "metadata": {},
   "outputs": [],
   "source": [
    "def review_dataframe(df):\n",
    "    \"\"\"\n",
    "    Prints a summary of the dataframe including shape, duplicate count,\n",
    "    and for each column: type, missing count, unique count, and sample values. \n",
    "    \"\"\"\n",
    "    print(f\"shape: {df.shape}\") # (rows, columns)\n",
    "    print(f\"duplicates: {df.duplicated().sum()}\\n\") # count of duplicate rows\n",
    "\n",
    "    print(f\"{'column':<30} {'type':<12} {'missing':<8} {'unique':<8} {'sample values'}\")\n",
    "    print(\"\\n\")\n",
    "    for col in df.columns:\n",
    "        dtype = df[col].dtype\n",
    "        missing = df[col].isnull().sum()\n",
    "        unique_count = df[col].nunique(dropna=True)\n",
    "        sample_values = df[col].dropna().unique()[:5]\n",
    "        print(f\"{col:<30} {str(dtype):<12} {missing:<8} {unique_count:<8} {sample_values}\")"
   ]
  },
  {
   "cell_type": "markdown",
   "metadata": {},
   "source": [
    "Visualise columns and statistics in a read friendly format with the review_dataframe(df) function"
   ]
  },
  {
   "cell_type": "code",
   "execution_count": 7,
   "metadata": {},
   "outputs": [
    {
     "name": "stdout",
     "output_type": "stream",
     "text": [
      "shape: (119390, 32)\n",
      "duplicates: 31994\n",
      "\n",
      "column                         type         missing  unique   sample values\n",
      "\n",
      "\n",
      "hotel                          object       0        2        ['Resort Hotel' 'City Hotel']\n",
      "is_canceled                    int64        0        2        [0 1]\n",
      "lead_time                      int64        0        479      [342 737   7  13  14]\n",
      "arrival_date_year              int64        0        3        [2015 2016 2017]\n",
      "arrival_date_month             object       0        12       ['July' 'August' 'September' 'October' 'November']\n",
      "arrival_date_week_number       int64        0        53       [27 28 29 30 31]\n",
      "arrival_date_day_of_month      int64        0        31       [1 2 3 4 5]\n",
      "stays_in_weekend_nights        int64        0        17       [0 1 2 4 3]\n",
      "stays_in_week_nights           int64        0        35       [0 1 2 3 4]\n",
      "adults                         int64        0        14       [ 2  1  3  4 40]\n",
      "children                       float64      4        5        [ 0.  1.  2. 10.  3.]\n",
      "babies                         int64        0        5        [ 0  1  2 10  9]\n",
      "meal                           object       0        5        ['BB' 'FB' 'HB' 'SC' 'Undefined']\n",
      "country                        object       488      177      ['PRT' 'GBR' 'USA' 'ESP' 'IRL']\n",
      "market_segment                 object       0        8        ['Direct' 'Corporate' 'Online TA' 'Offline TA/TO' 'Complementary']\n",
      "distribution_channel           object       0        5        ['Direct' 'Corporate' 'TA/TO' 'Undefined' 'GDS']\n",
      "is_repeated_guest              int64        0        2        [0 1]\n",
      "previous_cancellations         int64        0        15       [ 0  1  2  3 26]\n",
      "previous_bookings_not_canceled int64        0        73       [0 1 2 3 4]\n",
      "reserved_room_type             object       0        10       ['C' 'A' 'D' 'E' 'G']\n",
      "assigned_room_type             object       0        12       ['C' 'A' 'D' 'E' 'G']\n",
      "booking_changes                int64        0        21       [3 4 0 1 2]\n",
      "deposit_type                   object       0        3        ['No Deposit' 'Refundable' 'Non Refund']\n",
      "agent                          float64      16340    333      [304. 240. 303.  15. 241.]\n",
      "company                        float64      112593   352      [110. 113. 270. 178. 240.]\n",
      "days_in_waiting_list           int64        0        128      [  0  50  47  65 122]\n",
      "customer_type                  object       0        4        ['Transient' 'Contract' 'Transient-Party' 'Group']\n",
      "adr                            float64      0        8879     [  0.  75.  98. 107. 103.]\n",
      "required_car_parking_spaces    int64        0        5        [0 1 2 8 3]\n",
      "total_of_special_requests      int64        0        6        [0 1 3 2 4]\n",
      "reservation_status             object       0        3        ['Check-Out' 'Canceled' 'No-Show']\n",
      "reservation_status_date        object       0        926      ['2015-07-01' '2015-07-02' '2015-07-03' '2015-05-06' '2015-04-22']\n"
     ]
    }
   ],
   "source": [
    "review_dataframe(df) # call the function to review the dataframe"
   ]
  },
  {
   "cell_type": "markdown",
   "metadata": {},
   "source": [
    "Checking for and removing duplicate rows is an important first step to ensure that each record in the dataset is unique, which prevents bias or skewed results during analysis.The shape of the DataFrame is then checked to confirm the number of remaining records."
   ]
  },
  {
   "cell_type": "code",
   "execution_count": 8,
   "metadata": {},
   "outputs": [
    {
     "data": {
      "text/plain": [
       "(86940, 32)"
      ]
     },
     "execution_count": 8,
     "metadata": {},
     "output_type": "execute_result"
    }
   ],
   "source": [
    "df = df.drop_duplicates() #remove duplicate rows\n",
    "df = df.dropna(subset=['children', 'country',]) #remove rows with missing values in children and country columns\n",
    "df.shape"
   ]
  },
  {
   "cell_type": "markdown",
   "metadata": {},
   "source": [
    "Columns that are redundant, mostly IDs, or not useful for predicting cancellations are dropped to ensure the dataset remains focused, relevant, and free from potential bias.\n",
    "Columns to drop:\n",
    "- meal - meal type can often be changed after arrival at the hotel \n",
    "- booking_changes - booking changes directly correspond with group booking\n",
    "- agent - mostly IDs or missing values, and does not provide meaningful predictive information for cancellations\n",
    "- company - again, mostly IDs or missing values, and is not useful for modeling cancellations\n",
    "- adr - average revenue earned per day per occupied room,measures pricing and revenue performance, not needed for the current analysis\n",
    "- required_car_parking_spaces - high correspondance to group visits, could misslead analysis\n",
    "- total_of_special_requests - high correspondance to group visits, could misslead analysis\n",
    "- reservation_status - describes a final state of reservation, already captured in is_canceled\n",
    "- reservation_status_date - records the date when the reservation status was set,it is only known after the booking outcome so it cannot be used for predicting cancellations at the time of booking\n",
    "- arrival_date_week_number - redundant with arrival_date_month and arrival_date_day_of_month, and does not add predictive value for cancellations"
   ]
  },
  {
   "cell_type": "code",
   "execution_count": 9,
   "metadata": {},
   "outputs": [
    {
     "data": {
      "text/plain": [
       "(86940, 22)"
      ]
     },
     "execution_count": 9,
     "metadata": {},
     "output_type": "execute_result"
    }
   ],
   "source": [
    "df = df.drop([\n",
    "    'meal',\n",
    "    'agent',\n",
    "    'booking_changes',\n",
    "    'company',\n",
    "    'adr',\n",
    "    'required_car_parking_spaces',\n",
    "    'total_of_special_requests',\n",
    "    'reservation_status',\n",
    "    'reservation_status_date',\n",
    "    'arrival_date_week_number'\n",
    "], axis=1)\n",
    "df.shape # check new shape after dropping columns\n"
   ]
  },
  {
   "cell_type": "markdown",
   "metadata": {},
   "source": [
    "To assess whether mismatches between reserved and assigned room types contribute significantly to booking cancellations, the dataset is first analyzed to find such cases and calculate their frequency among all cancellations. After determining that only a small proportion of cancellations are associated with room mismatches, both the assigned and reserved room type columns are dropped. This is because assigned room type information is only available after check-in and is not useful for predicting cancellations at the time of booking. Additionally, reserved room type offers limited predictive value in this context and may be redundant with other booking information. Removing these columns simplifies the dataset and ensures that only relevant, pre-arrival features are used for downstream analysis."
   ]
  },
  {
   "cell_type": "code",
   "execution_count": 10,
   "metadata": {},
   "outputs": [
    {
     "name": "stdout",
     "output_type": "stream",
     "text": [
      "assigned/reserved mismatch: 609\n"
     ]
    }
   ],
   "source": [
    "cancelled_diff_room_type = df[\n",
    "    (df['is_canceled'] == 1) & \n",
    "    (df['assigned_room_type'] != df['reserved_room_type'])\n",
    "]\n",
    "count = cancelled_diff_room_type.shape[0]\n",
    "print(f\"assigned/reserved mismatch: {count}\")"
   ]
  },
  {
   "cell_type": "markdown",
   "metadata": {},
   "source": [
    "Calculate how many canceled bookings involved a mismatch between reserved and assigned room types, and what percentage of total cancellations this represents."
   ]
  },
  {
   "cell_type": "code",
   "execution_count": 11,
   "metadata": {},
   "outputs": [
    {
     "name": "stdout",
     "output_type": "stream",
     "text": [
      "mismatched and canceled: 609\n",
      "% of total canceled bookings that had a mismatch: 2.54%\n"
     ]
    }
   ],
   "source": [
    "mismatch_canceled = df[(df['is_canceled'] == 1) & (df['reserved_room_type'] != df['assigned_room_type'])].shape[0]\n",
    "percent_canceled_mismatch = mismatch_canceled / df['is_canceled'].sum() * 100\n",
    "\n",
    "print(f\"mismatched and canceled: {mismatch_canceled}\")\n",
    "print(f\"% of total canceled bookings that had a mismatch: {percent_canceled_mismatch:.2f}%\")\n"
   ]
  },
  {
   "cell_type": "markdown",
   "metadata": {},
   "source": [
    "Drop reserved_room_type and assigned_room_type because asigned_room_type is only recorded after check-in so it is not relevant for analysis of pre -arrival data and could introduce inconsistencies. Reserved_room_type provides limited insight for the current analysis and may be redundant with other booking information. Removing both columns simplifies the dataset and ensures only relevant & reliable features are retained for downstream processing. Also, room types are just indicative and do not describe the real room type. Further analysis for that which room is prefered or not cannot be done due to the lack of information regarding the real meaning behind the abreviations."
   ]
  },
  {
   "cell_type": "code",
   "execution_count": 12,
   "metadata": {},
   "outputs": [],
   "source": [
    "df = df.drop(['assigned_room_type', 'reserved_room_type'], axis=1)"
   ]
  },
  {
   "cell_type": "markdown",
   "metadata": {},
   "source": [
    "# New Features"
   ]
  },
  {
   "cell_type": "markdown",
   "metadata": {},
   "source": [
    "To create a unified and sortable date column, the month names are first mapped to their corresponding two-digit numbers. Then, the day, month, and year columns are combined and converted into a single arrival_date column in datetime format. This makes it easier to analyze and visualize booking trends over time."
   ]
  },
  {
   "cell_type": "code",
   "execution_count": 13,
   "metadata": {},
   "outputs": [
    {
     "name": "stdout",
     "output_type": "stream",
     "text": [
      "793\n",
      "0   2015-07-01\n",
      "1   2015-07-01\n",
      "2   2015-07-01\n",
      "3   2015-07-01\n",
      "4   2015-07-01\n",
      "Name: arrival_date, dtype: datetime64[ns]\n"
     ]
    }
   ],
   "source": [
    "# Create a mapping from month name to month number\n",
    "month_map = {month: str(index).zfill(2) for index, month in enumerate(calendar.month_name) if month}\n",
    "\n",
    "df['arrival_date'] = pd.to_datetime(\n",
    "    df['arrival_date_day_of_month'].astype(str).str.zfill(2) + '-' +\n",
    "    df['arrival_date_month'].map(month_map) + '-' +\n",
    "    df['arrival_date_year'].astype(str),\n",
    "    format='%d-%m-%Y',\n",
    "    dayfirst=True\n",
    ")\n",
    "\n",
    "print(df['arrival_date'].nunique()) # verify number of unique values in the column\n",
    "print(df['arrival_date'].head()) # display first 5"
   ]
  },
  {
   "cell_type": "markdown",
   "metadata": {},
   "source": [
    "The original day, month, and year columns are not dropped because they may be needed later to extract or engineer additional features from the date information. Keeping these columns ensures flexibility for further analysis."
   ]
  },
  {
   "cell_type": "code",
   "execution_count": 14,
   "metadata": {},
   "outputs": [
    {
     "name": "stdout",
     "output_type": "stream",
     "text": [
      "shape: (86940, 21)\n",
      "duplicates: 6064\n",
      "\n",
      "column                         type         missing  unique   sample values\n",
      "\n",
      "\n",
      "hotel                          object       0        2        ['Resort Hotel' 'City Hotel']\n",
      "is_canceled                    int64        0        2        [0 1]\n",
      "lead_time                      int64        0        479      [342 737   7  13  14]\n",
      "arrival_date_year              int64        0        3        [2015 2016 2017]\n",
      "arrival_date_month             object       0        12       ['July' 'August' 'September' 'October' 'November']\n",
      "arrival_date_day_of_month      int64        0        31       [1 2 3 4 5]\n",
      "stays_in_weekend_nights        int64        0        15       [0 1 2 4 3]\n",
      "stays_in_week_nights           int64        0        33       [0 1 2 3 4]\n",
      "adults                         int64        0        14       [ 2  1  3  4 40]\n",
      "children                       float64      0        5        [ 0.  1.  2. 10.  3.]\n",
      "babies                         int64        0        5        [ 0  1  2 10  9]\n",
      "country                        object       0        177      ['PRT' 'GBR' 'USA' 'ESP' 'IRL']\n",
      "market_segment                 object       0        7        ['Direct' 'Corporate' 'Online TA' 'Offline TA/TO' 'Complementary']\n",
      "distribution_channel           object       0        5        ['Direct' 'Corporate' 'TA/TO' 'Undefined' 'GDS']\n",
      "is_repeated_guest              int64        0        2        [0 1]\n",
      "previous_cancellations         int64        0        15       [ 0  1  2  3 26]\n",
      "previous_bookings_not_canceled int64        0        73       [0 1 2 3 5]\n",
      "deposit_type                   object       0        3        ['No Deposit' 'Refundable' 'Non Refund']\n",
      "days_in_waiting_list           int64        0        128      [  0  50  47  65 122]\n",
      "customer_type                  object       0        4        ['Transient' 'Contract' 'Transient-Party' 'Group']\n",
      "arrival_date                   datetime64[ns] 0        793      <DatetimeArray>\n",
      "['2015-07-01 00:00:00', '2015-07-02 00:00:00', '2015-07-03 00:00:00',\n",
      " '2015-07-04 00:00:00', '2015-07-05 00:00:00']\n",
      "Length: 5, dtype: datetime64[ns]\n"
     ]
    }
   ],
   "source": [
    "review_dataframe(df) # review dataframe again to see changes"
   ]
  },
  {
   "cell_type": "markdown",
   "metadata": {},
   "source": [
    "Change types:"
   ]
  },
  {
   "cell_type": "code",
   "execution_count": 15,
   "metadata": {},
   "outputs": [],
   "source": [
    "df['children'] = df['children'].astype(int) # convert float to int\n",
    "df['is_canceled'] = df['is_canceled'].astype(bool) # convert int to bool\n",
    "df['is_repeated_guest'] = df['is_repeated_guest'].astype(bool) # convert int to bool"
   ]
  },
  {
   "cell_type": "markdown",
   "metadata": {},
   "source": [
    "Column names are renamed to shorter, more intuitive labels for clarity and ease of use in analysis (e.g., 'stays_in_weekend_nights' becomes 'weekend_nights').\n"
   ]
  },
  {
   "cell_type": "code",
   "execution_count": 16,
   "metadata": {},
   "outputs": [],
   "source": [
    "df = df.rename(columns={\n",
    "    'stays_in_weekend_nights': 'weekend_nights',\n",
    "    'stays_in_week_nights': 'week_nights',\n",
    "    'days_in_waiting_list': 'days_waiting'\n",
    "})"
   ]
  },
  {
   "cell_type": "markdown",
   "metadata": {},
   "source": [
    "The next function function standardizes all string columns in the DataFrame by converting text to lowercase and replacing characters like '-', '!', '/', and spaces with underscores. This ensures consistency in column values, making data processing and analysis easier and less error-prone."
   ]
  },
  {
   "cell_type": "code",
   "execution_count": 17,
   "metadata": {},
   "outputs": [],
   "source": [
    "def clean_string_columns(df):\n",
    "    \"\"\"\n",
    "    Cleans string columns in the given DataFrame by converting all text to lowercase\n",
    "    and replacing '-', '!', '/', and spaces with underscores. Only columns with\n",
    "    object (string) dtype are processed.\n",
    "\n",
    "    Parameters\n",
    "    ----------\n",
    "    df : pandas.DataFrame\n",
    "        The input DataFrame whose string columns will be cleaned.\n",
    "\n",
    "    Returns\n",
    "    -------\n",
    "    pandas.DataFrame\n",
    "        The DataFrame with cleaned string columns.\n",
    "    \"\"\"\n",
    "    # Only apply to object (string) columns\n",
    "    for col in df.select_dtypes(include='object').columns:\n",
    "        df[col] = df[col].str.lower().str.replace(r'[-!/ ]', '_', regex=True)\n",
    "    return df\n",
    "\n",
    "df = clean_string_columns(df) # clean string columns"
   ]
  },
  {
   "cell_type": "markdown",
   "metadata": {},
   "source": [
    "New columns are created to better capture key guest and booking characteristics, making the data more meaningful and useful for analysis and modeling.\n",
    "- total_stay: a single numeric feature  is easier to analyze and model than two separate columns. Total length of stay often correlates with cancellation behaviourand is useful for EDA and models.\n",
    "- is_family - vallue will be true for bookings with more than one adult and at least one child or baby and false otherwise. Family bookings may have different cancellation patterns and preferences.\n",
    "- cancellation_ratio: represents the proportion of previous bookings that were canceled.The small value 1e-6 is added to the denominator to avoid division by zero. The column will clarify what fraction of the bookings that a gues made were canceled. For guests with no previous bookings at all (both fields zero), this ratio is zero.If there are many first-time guests with no booking history, then this feature will be zero for them which is logical."
   ]
  },
  {
   "cell_type": "code",
   "execution_count": 18,
   "metadata": {
    "vscode": {
     "languageId": "ruby"
    }
   },
   "outputs": [],
   "source": [
    "df['total_stay'] = df['weekend_nights'] + df['week_nights'] # total length of stay\n",
    "df['is_family'] = ((df['adults'] >= 1) & ((df['children'] >= 1) | (df['babies'] >= 1)) & (df['customer_type'] != 'group')) # family booking\n",
    "df['cancellation_ratio'] = df['previous_cancellations'] / (df['previous_cancellations'] + df['previous_bookings_not_canceled'] + 1e-6) # cancellation ratio\n",
    "df['total_guests'] = df['adults'] + df['children'] + df['babies'] # total number of guests\n",
    "df['is_international'] = df['country'] != 'prt' # international booking"
   ]
  },
  {
   "cell_type": "markdown",
   "metadata": {},
   "source": [
    "- is_international - this column will be very usefull as it will capture the different cacelation rate between domestic and international guests. I keep the countries column as it will be used in the dashboard to visualise map"
   ]
  },
  {
   "cell_type": "code",
   "execution_count": 19,
   "metadata": {},
   "outputs": [
    {
     "data": {
      "text/plain": [
       "(86940, 24)"
      ]
     },
     "execution_count": 19,
     "metadata": {},
     "output_type": "execute_result"
    }
   ],
   "source": [
    "df = df.drop(['previous_cancellations', 'previous_bookings_not_canceled'], axis=1)\n",
    "df.shape"
   ]
  },
  {
   "cell_type": "markdown",
   "metadata": {},
   "source": [
    "I decide to analyse deeper if 0 values of the stay_length correspond to canceled reservations, which would be a realistic scenario.\n",
    "My hypotheseis is that if a reservation is NOT canceled (is_canceled=False) the stay in the hotel must be at least 1 night (stay_length >=1)"
   ]
  },
  {
   "cell_type": "code",
   "execution_count": 20,
   "metadata": {},
   "outputs": [
    {
     "name": "stdout",
     "output_type": "stream",
     "text": [
      "Rows where reservation was not canceled and stay length is zero: 617\n"
     ]
    }
   ],
   "source": [
    "not_canceled_zero_stay = df[(df['is_canceled'] == False) & (df['total_stay'] == 0)]\n",
    "print(f\"Rows where reservation was not canceled and stay length is zero: {not_canceled_zero_stay.shape[0]}\")\n"
   ]
  },
  {
   "cell_type": "markdown",
   "metadata": {},
   "source": [
    "The above check shows lack of llogic in a real-world hotel data. A non-canceled reservation should have at least one night. For that reason I decide to remove the 617 rows with not canceled reservations but zero stay length, as they represent some kind of data error."
   ]
  },
  {
   "cell_type": "code",
   "execution_count": 21,
   "metadata": {},
   "outputs": [
    {
     "data": {
      "text/plain": [
       "(86323, 24)"
      ]
     },
     "execution_count": 21,
     "metadata": {},
     "output_type": "execute_result"
    }
   ],
   "source": [
    "df = df[~((df['is_canceled'] == False) & (df['total_stay'] == 0))]\n",
    "df.shape"
   ]
  },
  {
   "cell_type": "code",
   "execution_count": 22,
   "metadata": {},
   "outputs": [
    {
     "name": "stdout",
     "output_type": "stream",
     "text": [
      "shape: (86323, 24)\n",
      "duplicates: 6183\n",
      "\n",
      "column                         type         missing  unique   sample values\n",
      "\n",
      "\n",
      "hotel                          object       0        2        ['resort_hotel' 'city_hotel']\n",
      "is_canceled                    bool         0        2        [False  True]\n",
      "lead_time                      int64        0        478      [ 7 13 14  0  9]\n",
      "arrival_date_year              int64        0        3        [2015 2016 2017]\n",
      "arrival_date_month             object       0        12       ['july' 'august' 'september' 'october' 'november']\n",
      "arrival_date_day_of_month      int64        0        31       [1 2 3 4 5]\n",
      "weekend_nights                 int64        0        15       [0 1 2 4 3]\n",
      "week_nights                    int64        0        33       [1 2 3 4 5]\n",
      "adults                         int64        0        14       [ 1  2  3  4 40]\n",
      "children                       int32        0        5        [ 0  1  2 10  3]\n",
      "babies                         int64        0        5        [ 0  1  2 10  9]\n",
      "country                        object       0        177      ['gbr' 'prt' 'usa' 'esp' 'irl']\n",
      "market_segment                 object       0        7        ['direct' 'corporate' 'online_ta' 'offline_ta_to' 'complementary']\n",
      "distribution_channel           object       0        5        ['direct' 'corporate' 'ta_to' 'undefined' 'gds']\n",
      "is_repeated_guest              bool         0        2        [False  True]\n",
      "deposit_type                   object       0        3        ['no_deposit' 'refundable' 'non_refund']\n",
      "days_waiting                   int64        0        128      [  0  50  47  65 122]\n",
      "customer_type                  object       0        4        ['transient' 'contract' 'transient_party' 'group']\n",
      "arrival_date                   datetime64[ns] 0        793      <DatetimeArray>\n",
      "['2015-07-01 00:00:00', '2015-07-02 00:00:00', '2015-07-03 00:00:00',\n",
      " '2015-07-04 00:00:00', '2015-07-05 00:00:00']\n",
      "Length: 5, dtype: datetime64[ns]\n",
      "total_stay                     int64        0        43       [1 2 3 4 5]\n",
      "is_family                      bool         0        2        [False  True]\n",
      "cancellation_ratio             float64      0        171      [0.         0.49999975 0.33333322 0.24999994 0.19999996]\n",
      "total_guests                   int64        0        15       [1 2 3 4 5]\n",
      "is_international               bool         0        2        [ True False]\n"
     ]
    }
   ],
   "source": [
    "review_dataframe(df) # review dataframe again to see changes"
   ]
  },
  {
   "cell_type": "markdown",
   "metadata": {},
   "source": [
    "Drop duplicates after creating new features to ensure that any newly created identical rows are also removed, resulting in a clean and reliable dataset for analysis and modeling."
   ]
  },
  {
   "cell_type": "code",
   "execution_count": 23,
   "metadata": {},
   "outputs": [
    {
     "data": {
      "text/plain": [
       "(80140, 24)"
      ]
     },
     "execution_count": 23,
     "metadata": {},
     "output_type": "execute_result"
    }
   ],
   "source": [
    "df = df.drop_duplicates()\n",
    "df.shape"
   ]
  },
  {
   "cell_type": "markdown",
   "metadata": {},
   "source": [
    "# Check and Handle Outliars"
   ]
  },
  {
   "cell_type": "markdown",
   "metadata": {},
   "source": [
    "I expect that some of the outliars may be true values - large groups or long stays, so I will investigate them further\n",
    "A boxplot is generated for key numeric columns to visually detect outliers and understand the distribution of each variable. This helps identify unusual values or patterns that may affect the analysis or indicate data quality issues."
   ]
  },
  {
   "cell_type": "code",
   "execution_count": 24,
   "metadata": {},
   "outputs": [
    {
     "data": {
      "image/png": "[encoded data removed]",
      "text/plain": [
       "<Figure size 1200x600 with 1 Axes>"
      ]
     },
     "metadata": {},
     "output_type": "display_data"
    }
   ],
   "source": [
    "numeric_cols = [\n",
    "\t'lead_time', 'weekend_nights', 'week_nights', 'adults', 'children', \n",
    "\t'babies', 'total_stay', 'days_waiting', 'total_guests', 'cancellation_ratio'\n",
    "]\n",
    "\n",
    "plt.figure(figsize=(12, 6))\n",
    "df[numeric_cols].boxplot()\n",
    "plt.title(\"Boxplot of Numeric Columns (Outlier Detection)\")\n",
    "plt.ylabel(\"Value\")\n",
    "plt.xticks(rotation=45)\n",
    "plt.show()"
   ]
  },
  {
   "cell_type": "markdown",
   "metadata": {},
   "source": [
    "For each numeric column, the following code calculates the interquartile range (IQR) and identifies outliers as values that fall below or above 1.5 times the IQR from the first or third quartile. The top 5 outliers for each variable are then printed. This process helps to systematically detect extreme values that may require further investigation or special handling in the analysis."
   ]
  },
  {
   "cell_type": "code",
   "execution_count": 25,
   "metadata": {},
   "outputs": [
    {
     "name": "stdout",
     "output_type": "stream",
     "text": [
      "\n",
      "Top 5 outliers for 'lead_time':\n",
      "       lead_time\n",
      "4182         709\n",
      "65237        629\n",
      "65231        629\n",
      "60173        626\n",
      "65032        622\n",
      "\n",
      "Top 5 outliers for 'weekend_nights':\n",
      "        weekend_nights\n",
      "33924               16\n",
      "9839                16\n",
      "101794              16\n",
      "54704               14\n",
      "88017               14\n",
      "\n",
      "Top 5 outliers for 'week_nights':\n",
      "        week_nights\n",
      "101794           41\n",
      "33924            40\n",
      "9839             40\n",
      "88017            35\n",
      "54704            34\n",
      "\n",
      "Top 5 outliers for 'adults':\n",
      "      adults\n",
      "2173      55\n",
      "1643      50\n",
      "1539      40\n",
      "1962      27\n",
      "1917      27\n",
      "\n",
      "Top 5 outliers for 'children':\n",
      "        children\n",
      "328           10\n",
      "18746          3\n",
      "118200         3\n",
      "115891         3\n",
      "92415          3\n",
      "\n",
      "Top 5 outliers for 'babies':\n",
      "       babies\n",
      "46619      10\n",
      "78656       9\n",
      "7896        2\n",
      "39634       2\n",
      "6719        2\n",
      "\n",
      "Top 5 outliers for 'total_stay':\n",
      "        total_stay\n",
      "101794          57\n",
      "33924           56\n",
      "9839            56\n",
      "88017           49\n",
      "54704           48\n",
      "\n",
      "Top 5 outliers for 'days_waiting':\n",
      "       days_waiting\n",
      "59395           391\n",
      "59076           391\n",
      "58152           391\n",
      "56959           379\n",
      "56957           379\n",
      "\n",
      "Top 5 outliers for 'total_guests':\n",
      "      total_guests\n",
      "2173            55\n",
      "1643            50\n",
      "1539            40\n",
      "1917            27\n",
      "1962            27\n",
      "\n",
      "Top 5 outliers for 'cancellation_ratio':\n",
      "       cancellation_ratio\n",
      "14779                 1.0\n",
      "14829                 1.0\n",
      "14972                 1.0\n",
      "15150                 1.0\n",
      "73714                 1.0\n"
     ]
    }
   ],
   "source": [
    "numeric_cols = [\n",
    "    'lead_time', 'weekend_nights', 'week_nights', 'adults', 'children', \n",
    "    'babies', 'total_stay', 'days_waiting', 'total_guests', 'cancellation_ratio'\n",
    "]\n",
    "\n",
    "for col in numeric_cols:\n",
    "    q1 = df[col].quantile(0.25)\n",
    "    q3 = df[col].quantile(0.75)\n",
    "    iqr = q3 - q1\n",
    "    lower_bound = q1 - 1.5 * iqr\n",
    "    upper_bound = q3 + 1.5 * iqr\n",
    "    outliers = df[(df[col] < lower_bound) | (df[col] > upper_bound)]\n",
    "    print(f\"\\nTop 5 outliers for '{col}':\")\n",
    "    print(outliers[[col]].sort_values(by=col, ascending=False).head(5))"
   ]
  },
  {
   "cell_type": "markdown",
   "metadata": {},
   "source": [
    "Below are the rows in the dataset where the number of adults is greater than or equal to 40. Such values may indicate group bookings or potential data entry errors and should be reviewed for validity."
   ]
  },
  {
   "cell_type": "code",
   "execution_count": 26,
   "metadata": {},
   "outputs": [
    {
     "data": {
      "text/html": [
       "<div>\n",
       "<style scoped>\n",
       "    .dataframe tbody tr th:only-of-type {\n",
       "        vertical-align: middle;\n",
       "    }\n",
       "\n",
       "    .dataframe tbody tr th {\n",
       "        vertical-align: top;\n",
       "    }\n",
       "\n",
       "    .dataframe thead th {\n",
       "        text-align: right;\n",
       "    }\n",
       "</style>\n",
       "<table border=\"1\" class=\"dataframe\">\n",
       "  <thead>\n",
       "    <tr style=\"text-align: right;\">\n",
       "      <th></th>\n",
       "      <th>hotel</th>\n",
       "      <th>is_canceled</th>\n",
       "      <th>lead_time</th>\n",
       "      <th>arrival_date_year</th>\n",
       "      <th>arrival_date_month</th>\n",
       "      <th>arrival_date_day_of_month</th>\n",
       "      <th>weekend_nights</th>\n",
       "      <th>week_nights</th>\n",
       "      <th>adults</th>\n",
       "      <th>children</th>\n",
       "      <th>...</th>\n",
       "      <th>is_repeated_guest</th>\n",
       "      <th>deposit_type</th>\n",
       "      <th>days_waiting</th>\n",
       "      <th>customer_type</th>\n",
       "      <th>arrival_date</th>\n",
       "      <th>total_stay</th>\n",
       "      <th>is_family</th>\n",
       "      <th>cancellation_ratio</th>\n",
       "      <th>total_guests</th>\n",
       "      <th>is_international</th>\n",
       "    </tr>\n",
       "  </thead>\n",
       "  <tbody>\n",
       "    <tr>\n",
       "      <th>1539</th>\n",
       "      <td>resort_hotel</td>\n",
       "      <td>True</td>\n",
       "      <td>304</td>\n",
       "      <td>2015</td>\n",
       "      <td>september</td>\n",
       "      <td>3</td>\n",
       "      <td>0</td>\n",
       "      <td>3</td>\n",
       "      <td>40</td>\n",
       "      <td>0</td>\n",
       "      <td>...</td>\n",
       "      <td>False</td>\n",
       "      <td>no_deposit</td>\n",
       "      <td>0</td>\n",
       "      <td>group</td>\n",
       "      <td>2015-09-03</td>\n",
       "      <td>3</td>\n",
       "      <td>False</td>\n",
       "      <td>0.0</td>\n",
       "      <td>40</td>\n",
       "      <td>False</td>\n",
       "    </tr>\n",
       "    <tr>\n",
       "      <th>1643</th>\n",
       "      <td>resort_hotel</td>\n",
       "      <td>True</td>\n",
       "      <td>336</td>\n",
       "      <td>2015</td>\n",
       "      <td>september</td>\n",
       "      <td>7</td>\n",
       "      <td>1</td>\n",
       "      <td>2</td>\n",
       "      <td>50</td>\n",
       "      <td>0</td>\n",
       "      <td>...</td>\n",
       "      <td>False</td>\n",
       "      <td>no_deposit</td>\n",
       "      <td>0</td>\n",
       "      <td>group</td>\n",
       "      <td>2015-09-07</td>\n",
       "      <td>3</td>\n",
       "      <td>False</td>\n",
       "      <td>0.0</td>\n",
       "      <td>50</td>\n",
       "      <td>False</td>\n",
       "    </tr>\n",
       "    <tr>\n",
       "      <th>2173</th>\n",
       "      <td>resort_hotel</td>\n",
       "      <td>True</td>\n",
       "      <td>338</td>\n",
       "      <td>2015</td>\n",
       "      <td>october</td>\n",
       "      <td>4</td>\n",
       "      <td>2</td>\n",
       "      <td>0</td>\n",
       "      <td>55</td>\n",
       "      <td>0</td>\n",
       "      <td>...</td>\n",
       "      <td>False</td>\n",
       "      <td>no_deposit</td>\n",
       "      <td>0</td>\n",
       "      <td>group</td>\n",
       "      <td>2015-10-04</td>\n",
       "      <td>2</td>\n",
       "      <td>False</td>\n",
       "      <td>0.0</td>\n",
       "      <td>55</td>\n",
       "      <td>False</td>\n",
       "    </tr>\n",
       "  </tbody>\n",
       "</table>\n",
       "<p>3 rows × 24 columns</p>\n",
       "</div>"
      ],
      "text/plain": [
       "             hotel  is_canceled  lead_time  arrival_date_year  \\\n",
       "1539  resort_hotel         True        304               2015   \n",
       "1643  resort_hotel         True        336               2015   \n",
       "2173  resort_hotel         True        338               2015   \n",
       "\n",
       "     arrival_date_month  arrival_date_day_of_month  weekend_nights  \\\n",
       "1539          september                          3               0   \n",
       "1643          september                          7               1   \n",
       "2173            october                          4               2   \n",
       "\n",
       "      week_nights  adults  children  ...  is_repeated_guest deposit_type  \\\n",
       "1539            3      40         0  ...              False   no_deposit   \n",
       "1643            2      50         0  ...              False   no_deposit   \n",
       "2173            0      55         0  ...              False   no_deposit   \n",
       "\n",
       "     days_waiting customer_type  arrival_date total_stay  is_family  \\\n",
       "1539            0         group    2015-09-03          3      False   \n",
       "1643            0         group    2015-09-07          3      False   \n",
       "2173            0         group    2015-10-04          2      False   \n",
       "\n",
       "     cancellation_ratio total_guests  is_international  \n",
       "1539                0.0           40             False  \n",
       "1643                0.0           50             False  \n",
       "2173                0.0           55             False  \n",
       "\n",
       "[3 rows x 24 columns]"
      ]
     },
     "execution_count": 26,
     "metadata": {},
     "output_type": "execute_result"
    }
   ],
   "source": [
    "df[df['adults'] >= 40] # investigate outliers in adults column"
   ]
  },
  {
   "cell_type": "markdown",
   "metadata": {},
   "source": [
    "Observation - top 3 outliars are actualy Group bookings, so I consider them valid data.\n",
    "\n",
    "Rows where the number of children equals 10 are also examined to determine if these are outliers or valid group bookings. If the booking details suggest a school trip, camp, or similar group event, these records are considered plausible and kept in the dataset."
   ]
  },
  {
   "cell_type": "code",
   "execution_count": 27,
   "metadata": {},
   "outputs": [
    {
     "data": {
      "text/html": [
       "<div>\n",
       "<style scoped>\n",
       "    .dataframe tbody tr th:only-of-type {\n",
       "        vertical-align: middle;\n",
       "    }\n",
       "\n",
       "    .dataframe tbody tr th {\n",
       "        vertical-align: top;\n",
       "    }\n",
       "\n",
       "    .dataframe thead th {\n",
       "        text-align: right;\n",
       "    }\n",
       "</style>\n",
       "<table border=\"1\" class=\"dataframe\">\n",
       "  <thead>\n",
       "    <tr style=\"text-align: right;\">\n",
       "      <th></th>\n",
       "      <th>hotel</th>\n",
       "      <th>is_canceled</th>\n",
       "      <th>lead_time</th>\n",
       "      <th>arrival_date_year</th>\n",
       "      <th>arrival_date_month</th>\n",
       "      <th>arrival_date_day_of_month</th>\n",
       "      <th>weekend_nights</th>\n",
       "      <th>week_nights</th>\n",
       "      <th>adults</th>\n",
       "      <th>children</th>\n",
       "      <th>...</th>\n",
       "      <th>is_repeated_guest</th>\n",
       "      <th>deposit_type</th>\n",
       "      <th>days_waiting</th>\n",
       "      <th>customer_type</th>\n",
       "      <th>arrival_date</th>\n",
       "      <th>total_stay</th>\n",
       "      <th>is_family</th>\n",
       "      <th>cancellation_ratio</th>\n",
       "      <th>total_guests</th>\n",
       "      <th>is_international</th>\n",
       "    </tr>\n",
       "  </thead>\n",
       "  <tbody>\n",
       "    <tr>\n",
       "      <th>328</th>\n",
       "      <td>resort_hotel</td>\n",
       "      <td>True</td>\n",
       "      <td>55</td>\n",
       "      <td>2015</td>\n",
       "      <td>july</td>\n",
       "      <td>12</td>\n",
       "      <td>4</td>\n",
       "      <td>10</td>\n",
       "      <td>2</td>\n",
       "      <td>10</td>\n",
       "      <td>...</td>\n",
       "      <td>False</td>\n",
       "      <td>no_deposit</td>\n",
       "      <td>0</td>\n",
       "      <td>contract</td>\n",
       "      <td>2015-07-12</td>\n",
       "      <td>14</td>\n",
       "      <td>True</td>\n",
       "      <td>0.0</td>\n",
       "      <td>12</td>\n",
       "      <td>False</td>\n",
       "    </tr>\n",
       "  </tbody>\n",
       "</table>\n",
       "<p>1 rows × 24 columns</p>\n",
       "</div>"
      ],
      "text/plain": [
       "            hotel  is_canceled  lead_time  arrival_date_year  \\\n",
       "328  resort_hotel         True         55               2015   \n",
       "\n",
       "    arrival_date_month  arrival_date_day_of_month  weekend_nights  \\\n",
       "328               july                         12               4   \n",
       "\n",
       "     week_nights  adults  children  ...  is_repeated_guest deposit_type  \\\n",
       "328           10       2        10  ...              False   no_deposit   \n",
       "\n",
       "    days_waiting customer_type  arrival_date total_stay  is_family  \\\n",
       "328            0      contract    2015-07-12         14       True   \n",
       "\n",
       "    cancellation_ratio total_guests  is_international  \n",
       "328                0.0           12             False  \n",
       "\n",
       "[1 rows x 24 columns]"
      ]
     },
     "execution_count": 27,
     "metadata": {},
     "output_type": "execute_result"
    }
   ],
   "source": [
    "df[df['children'] == 10]"
   ]
  },
  {
   "cell_type": "markdown",
   "metadata": {},
   "source": [
    "Observation: The combination (2 adults + 10 children, contract booking long stay) strongly suggests a legitimate group booking -school trip, summer camp, tour group. I consider it a valid data.\n",
    "\n",
    "Now, checking the lead_time - 709, to visualise the booking features:"
   ]
  },
  {
   "cell_type": "code",
   "execution_count": 28,
   "metadata": {},
   "outputs": [
    {
     "data": {
      "text/html": [
       "<div>\n",
       "<style scoped>\n",
       "    .dataframe tbody tr th:only-of-type {\n",
       "        vertical-align: middle;\n",
       "    }\n",
       "\n",
       "    .dataframe tbody tr th {\n",
       "        vertical-align: top;\n",
       "    }\n",
       "\n",
       "    .dataframe thead th {\n",
       "        text-align: right;\n",
       "    }\n",
       "</style>\n",
       "<table border=\"1\" class=\"dataframe\">\n",
       "  <thead>\n",
       "    <tr style=\"text-align: right;\">\n",
       "      <th></th>\n",
       "      <th>hotel</th>\n",
       "      <th>is_canceled</th>\n",
       "      <th>lead_time</th>\n",
       "      <th>arrival_date_year</th>\n",
       "      <th>arrival_date_month</th>\n",
       "      <th>arrival_date_day_of_month</th>\n",
       "      <th>weekend_nights</th>\n",
       "      <th>week_nights</th>\n",
       "      <th>adults</th>\n",
       "      <th>children</th>\n",
       "      <th>...</th>\n",
       "      <th>is_repeated_guest</th>\n",
       "      <th>deposit_type</th>\n",
       "      <th>days_waiting</th>\n",
       "      <th>customer_type</th>\n",
       "      <th>arrival_date</th>\n",
       "      <th>total_stay</th>\n",
       "      <th>is_family</th>\n",
       "      <th>cancellation_ratio</th>\n",
       "      <th>total_guests</th>\n",
       "      <th>is_international</th>\n",
       "    </tr>\n",
       "  </thead>\n",
       "  <tbody>\n",
       "    <tr>\n",
       "      <th>4182</th>\n",
       "      <td>resort_hotel</td>\n",
       "      <td>False</td>\n",
       "      <td>709</td>\n",
       "      <td>2016</td>\n",
       "      <td>february</td>\n",
       "      <td>25</td>\n",
       "      <td>8</td>\n",
       "      <td>20</td>\n",
       "      <td>2</td>\n",
       "      <td>0</td>\n",
       "      <td>...</td>\n",
       "      <td>False</td>\n",
       "      <td>no_deposit</td>\n",
       "      <td>0</td>\n",
       "      <td>transient</td>\n",
       "      <td>2016-02-25</td>\n",
       "      <td>28</td>\n",
       "      <td>False</td>\n",
       "      <td>0.0</td>\n",
       "      <td>2</td>\n",
       "      <td>True</td>\n",
       "    </tr>\n",
       "  </tbody>\n",
       "</table>\n",
       "<p>1 rows × 24 columns</p>\n",
       "</div>"
      ],
      "text/plain": [
       "             hotel  is_canceled  lead_time  arrival_date_year  \\\n",
       "4182  resort_hotel        False        709               2016   \n",
       "\n",
       "     arrival_date_month  arrival_date_day_of_month  weekend_nights  \\\n",
       "4182           february                         25               8   \n",
       "\n",
       "      week_nights  adults  children  ...  is_repeated_guest deposit_type  \\\n",
       "4182           20       2         0  ...              False   no_deposit   \n",
       "\n",
       "     days_waiting customer_type  arrival_date total_stay  is_family  \\\n",
       "4182            0     transient    2016-02-25         28      False   \n",
       "\n",
       "     cancellation_ratio total_guests  is_international  \n",
       "4182                0.0            2              True  \n",
       "\n",
       "[1 rows x 24 columns]"
      ]
     },
     "execution_count": 28,
     "metadata": {},
     "output_type": "execute_result"
    }
   ],
   "source": [
    "df[df['lead_time'] == 709]"
   ]
  },
  {
   "cell_type": "markdown",
   "metadata": {},
   "source": [
    "The maximum lead_time outlier should be kept in the dataset because it represents a plausible, though rare, real-world scenario: a booking made far in advance, possibly for a special event or personal reason. Additionally, the presence of this outlier does not indicate a data error, as the associated reservation details are consistent and realistic. Also, as there are more reservations made more that a year in advance, I consider this a hotel practice (alowing long lead time for bookings)"
   ]
  },
  {
   "cell_type": "markdown",
   "metadata": {},
   "source": [
    "Outliers are treated as valid observations and will be retained for further analysis during the EDA and dashboard development stages."
   ]
  },
  {
   "cell_type": "code",
   "execution_count": 29,
   "metadata": {},
   "outputs": [
    {
     "name": "stdout",
     "output_type": "stream",
     "text": [
      "shape: (80140, 24)\n",
      "duplicates: 0\n",
      "\n",
      "column                         type         missing  unique   sample values\n",
      "\n",
      "\n",
      "hotel                          object       0        2        ['resort_hotel' 'city_hotel']\n",
      "is_canceled                    bool         0        2        [False  True]\n",
      "lead_time                      int64        0        478      [ 7 13 14  0  9]\n",
      "arrival_date_year              int64        0        3        [2015 2016 2017]\n",
      "arrival_date_month             object       0        12       ['july' 'august' 'september' 'october' 'november']\n",
      "arrival_date_day_of_month      int64        0        31       [1 2 3 4 5]\n",
      "weekend_nights                 int64        0        15       [0 1 2 4 3]\n",
      "week_nights                    int64        0        33       [1 2 3 4 5]\n",
      "adults                         int64        0        14       [ 1  2  3  4 40]\n",
      "children                       int32        0        5        [ 0  1  2 10  3]\n",
      "babies                         int64        0        5        [ 0  1  2 10  9]\n",
      "country                        object       0        177      ['gbr' 'prt' 'usa' 'esp' 'irl']\n",
      "market_segment                 object       0        7        ['direct' 'corporate' 'online_ta' 'offline_ta_to' 'complementary']\n",
      "distribution_channel           object       0        5        ['direct' 'corporate' 'ta_to' 'undefined' 'gds']\n",
      "is_repeated_guest              bool         0        2        [False  True]\n",
      "deposit_type                   object       0        3        ['no_deposit' 'refundable' 'non_refund']\n",
      "days_waiting                   int64        0        128      [  0  50  47  65 122]\n",
      "customer_type                  object       0        4        ['transient' 'contract' 'transient_party' 'group']\n",
      "arrival_date                   datetime64[ns] 0        793      <DatetimeArray>\n",
      "['2015-07-01 00:00:00', '2015-07-02 00:00:00', '2015-07-03 00:00:00',\n",
      " '2015-07-04 00:00:00', '2015-07-05 00:00:00']\n",
      "Length: 5, dtype: datetime64[ns]\n",
      "total_stay                     int64        0        43       [1 2 3 4 5]\n",
      "is_family                      bool         0        2        [False  True]\n",
      "cancellation_ratio             float64      0        171      [0.         0.49999975 0.33333322 0.24999994 0.19999996]\n",
      "total_guests                   int64        0        15       [1 2 3 4 5]\n",
      "is_international               bool         0        2        [ True False]\n"
     ]
    }
   ],
   "source": [
    "review_dataframe(df) # review dataframe again to see changes"
   ]
  },
  {
   "cell_type": "markdown",
   "metadata": {},
   "source": [
    "# Labeling\n",
    "During the ETL process categorical columns are labeled with human-readable values using predefined mappings. This improves dataset readability, ensures consistency and simplifies downstream analysis, reporting, and visualization. All labeling is generated with Copilot."
   ]
  },
  {
   "cell_type": "code",
   "execution_count": 30,
   "metadata": {},
   "outputs": [],
   "source": [
    "#This will create a new column country_label with readable country names.\n",
    "# Mapping country codes to full country names\n",
    "country_map = {\n",
    "    'gbr': 'United Kingdom', 'prt': 'Portugal', 'usa': 'United States', 'esp': 'Spain', 'irl': 'Ireland',\n",
    "    'fra': 'France', 'rou': 'Romania', 'nor': 'Norway', 'omn': 'Oman', 'arg': 'Argentina',\n",
    "    'pol': 'Poland', 'deu': 'Germany', 'bel': 'Belgium', 'che': 'Switzerland', 'cn': 'China',\n",
    "    'grc': 'Greece', 'ita': 'Italy', 'nld': 'Netherlands', 'dnk': 'Denmark', 'rus': 'Russia',\n",
    "    'swe': 'Sweden', 'aus': 'Australia', 'est': 'Estonia', 'cze': 'Czech Republic', 'bra': 'Brazil',\n",
    "    'fin': 'Finland', 'moz': 'Mozambique', 'bwa': 'Botswana', 'lux': 'Luxembourg', 'svn': 'Slovenia',\n",
    "    'alb': 'Albania', 'ind': 'India', 'chn': 'China', 'mex': 'Mexico', 'mar': 'Morocco',\n",
    "    'ukr': 'Ukraine', 'smr': 'San Marino', 'lva': 'Latvia', 'pri': 'Puerto Rico', 'srb': 'Serbia',\n",
    "    'chl': 'Chile', 'aut': 'Austria', 'blr': 'Belarus', 'ltu': 'Lithuania', 'tur': 'Turkey',\n",
    "    'zaf': 'South Africa', 'ago': 'Angola', 'isr': 'Israel', 'cym': 'Cayman Islands', 'zmb': 'Zambia',\n",
    "    'cpv': 'Cape Verde', 'zwe': 'Zimbabwe', 'dza': 'Algeria', 'kor': 'South Korea', 'cri': 'Costa Rica',\n",
    "    'hun': 'Hungary', 'are': 'United Arab Emirates', 'tun': 'Tunisia', 'jam': 'Jamaica', 'hrv': 'Croatia',\n",
    "    'hkg': 'Hong Kong', 'irn': 'Iran', 'geo': 'Georgia', 'and': 'Andorra', 'gib': 'Gibraltar',\n",
    "    'ury': 'Uruguay', 'jey': 'Jersey', 'caf': 'Central African Republic', 'cyp': 'Cyprus', 'col': 'Colombia',\n",
    "    'ggy': 'Guernsey', 'kwt': 'Kuwait', 'nga': 'Nigeria', 'mdv': 'Maldives', 'ven': 'Venezuela',\n",
    "    'svk': 'Slovakia', 'fji': 'Fiji', 'kaz': 'Kazakhstan', 'pak': 'Pakistan', 'idn': 'Indonesia',\n",
    "    'lbn': 'Lebanon', 'phl': 'Philippines', 'sen': 'Senegal', 'syc': 'Seychelles', 'aze': 'Azerbaijan',\n",
    "    'bhr': 'Bahrain', 'nzl': 'New Zealand', 'tha': 'Thailand', 'dom': 'Dominican Republic', 'mkd': 'North Macedonia',\n",
    "    'mys': 'Malaysia', 'arm': 'Armenia', 'jpn': 'Japan', 'lka': 'Sri Lanka', 'cub': 'Cuba',\n",
    "    'cmr': 'Cameroon', 'bih': 'Bosnia and Herzegovina', 'mus': 'Mauritius', 'com': 'Comoros', 'sur': 'Suriname',\n",
    "    'uga': 'Uganda', 'bgr': 'Bulgaria', 'civ': \"Côte d'Ivoire\", 'jor': 'Jordan', 'syr': 'Syria',\n",
    "    'sgp': 'Singapore', 'bdi': 'Burundi', 'sau': 'Saudi Arabia', 'vnm': 'Vietnam', 'plw': 'Palau',\n",
    "    'egy': 'Egypt', 'per': 'Peru', 'mlt': 'Malta', 'mwi': 'Malawi', 'ecu': 'Ecuador',\n",
    "    'mdg': 'Madagascar', 'isl': 'Iceland', 'uzb': 'Uzbekistan', 'npl': 'Nepal', 'bhs': 'Bahamas',\n",
    "    'mac': 'Macau', 'tgo': 'Togo', 'twn': 'Taiwan', 'dji': 'Djibouti', 'stp': 'São Tomé and Príncipe',\n",
    "    'kna': 'Saint Kitts and Nevis', 'eth': 'Ethiopia', 'irq': 'Iraq', 'hnd': 'Honduras', 'rwa': 'Rwanda',\n",
    "    'qat': 'Qatar', 'khm': 'Cambodia', 'mco': 'Monaco', 'bgd': 'Bangladesh', 'imn': 'Isle of Man',\n",
    "    'tjk': 'Tajikistan', 'nic': 'Nicaragua', 'ben': 'Benin', 'vgb': 'British Virgin Islands', 'tza': 'Tanzania',\n",
    "    'gab': 'Gabon', 'gha': 'Ghana', 'tmp': 'Timor-Leste', 'glp': 'Guadeloupe', 'ken': 'Kenya',\n",
    "    'lie': 'Liechtenstein', 'gnb': 'Guinea-Bissau', 'mne': 'Montenegro', 'umi': 'U.S. Minor Outlying Islands',\n",
    "    'myt': 'Mayotte', 'fro': 'Faroe Islands', 'mmr': 'Myanmar', 'pan': 'Panama', 'bfa': 'Burkina Faso',\n",
    "    'lby': 'Libya', 'mli': 'Mali', 'nam': 'Namibia', 'bol': 'Bolivia', 'pry': 'Paraguay',\n",
    "    'brb': 'Barbados', 'abw': 'Aruba', 'aia': 'Anguilla', 'slv': 'El Salvador', 'dma': 'Dominica',\n",
    "    'pyf': 'French Polynesia', 'guy': 'Guyana', 'lca': 'Saint Lucia', 'ata': 'Antarctica',\n",
    "    'gtm': 'Guatemala', 'asm': 'American Samoa', 'mrt': 'Mauritania', 'ncl': 'New Caledonia', 'kir': 'Kiribati',\n",
    "    'sdn': 'Sudan', 'atf': 'French Southern Territories', 'sle': 'Sierra Leone', 'lao': 'Laos'\n",
    "}\n",
    "\n",
    "df['country_label'] = df['country'].map(country_map).fillna(df['country']) # Create a new column with full country names, defaulting to original code if not found\n",
    "\n",
    "# Create readable labels for distribution_channel, customer_type\n",
    "# Create a readable label for market_segment values\n",
    "segment_labels = {\n",
    "    'direct': 'Direct Booking',\n",
    "    'corporate': 'Corporate Client',\n",
    "    'online_ta': 'Online Travel Agency',\n",
    "    'offline_ta_to': 'Offline Travel Agent/Tour Operator',\n",
    "    'complementary': 'Complimentary Stay',\n",
    "    'groups': 'Group Booking'\n",
    "}\n",
    "df['market_segment_label'] = df['market_segment'].map(segment_labels).fillna(df['market_segment'])\n",
    "\n",
    "# Create a readable label for distribution_channel values\n",
    "distribution_channel_labels = {\n",
    "    'direct': 'Direct Booking',\n",
    "    'corporate': 'Corporate Channel',\n",
    "    'ta_to': 'Travel Agent/Tour Operator',\n",
    "    'undefined': 'Undefined Channel',\n",
    "    'gds': 'Global Distribution System'\n",
    "}\n",
    "df['distribution_channel_label'] = df['distribution_channel'].map(distribution_channel_labels).fillna(df['distribution_channel'])\n",
    "\n",
    "# Create a readable label for customer_type values\n",
    "customer_type_labels = {\n",
    "    'transient': 'Transient Guest',\n",
    "    'contract': 'Contract Client',\n",
    "    'transient_party': 'Transient Party',\n",
    "    'group': 'Group Booking'\n",
    "}\n",
    "df['customer_type_label'] = df['customer_type'].map(customer_type_labels).fillna(df['customer_type'])"
   ]
  },
  {
   "cell_type": "markdown",
   "metadata": {},
   "source": [
    "# Save cleaned file as hotel_bookings_clean.csv"
   ]
  },
  {
   "cell_type": "code",
   "execution_count": 31,
   "metadata": {},
   "outputs": [],
   "source": [
    "df.to_csv(\"data/clean/hotel_bookings_clean.csv\", index=False)"
   ]
  },
  {
   "cell_type": "markdown",
   "metadata": {},
   "source": [
    "# Sampling and encoding"
   ]
  },
  {
   "cell_type": "code",
   "execution_count": 32,
   "metadata": {},
   "outputs": [
    {
     "name": "stdout",
     "output_type": "stream",
     "text": [
      "shape: (80140, 28)\n",
      "duplicates: 0\n",
      "\n",
      "column                         type         missing  unique   sample values\n",
      "\n",
      "\n",
      "hotel                          object       0        2        ['resort_hotel' 'city_hotel']\n",
      "is_canceled                    bool         0        2        [False  True]\n",
      "lead_time                      int64        0        478      [ 7 13 14  0  9]\n",
      "arrival_date_year              int64        0        3        [2015 2016 2017]\n",
      "arrival_date_month             object       0        12       ['july' 'august' 'september' 'october' 'november']\n",
      "arrival_date_day_of_month      int64        0        31       [1 2 3 4 5]\n",
      "weekend_nights                 int64        0        15       [0 1 2 4 3]\n",
      "week_nights                    int64        0        33       [1 2 3 4 5]\n",
      "adults                         int64        0        14       [ 1  2  3  4 40]\n",
      "children                       int32        0        5        [ 0  1  2 10  3]\n",
      "babies                         int64        0        5        [ 0  1  2 10  9]\n",
      "country                        object       0        177      ['gbr' 'prt' 'usa' 'esp' 'irl']\n",
      "market_segment                 object       0        7        ['direct' 'corporate' 'online_ta' 'offline_ta_to' 'complementary']\n",
      "distribution_channel           object       0        5        ['direct' 'corporate' 'ta_to' 'undefined' 'gds']\n",
      "is_repeated_guest              bool         0        2        [False  True]\n",
      "deposit_type                   object       0        3        ['no_deposit' 'refundable' 'non_refund']\n",
      "days_waiting                   int64        0        128      [  0  50  47  65 122]\n",
      "customer_type                  object       0        4        ['transient' 'contract' 'transient_party' 'group']\n",
      "arrival_date                   datetime64[ns] 0        793      <DatetimeArray>\n",
      "['2015-07-01 00:00:00', '2015-07-02 00:00:00', '2015-07-03 00:00:00',\n",
      " '2015-07-04 00:00:00', '2015-07-05 00:00:00']\n",
      "Length: 5, dtype: datetime64[ns]\n",
      "total_stay                     int64        0        43       [1 2 3 4 5]\n",
      "is_family                      bool         0        2        [False  True]\n",
      "cancellation_ratio             float64      0        171      [0.         0.49999975 0.33333322 0.24999994 0.19999996]\n",
      "total_guests                   int64        0        15       [1 2 3 4 5]\n",
      "is_international               bool         0        2        [ True False]\n",
      "country_label                  object       0        176      ['United Kingdom' 'Portugal' 'United States' 'Spain' 'Ireland']\n",
      "market_segment_label           object       0        7        ['Direct Booking' 'Corporate Client' 'Online Travel Agency'\n",
      " 'Offline Travel Agent/Tour Operator' 'Complimentary Stay']\n",
      "distribution_channel_label     object       0        5        ['Direct Booking' 'Corporate Channel' 'Travel Agent/Tour Operator'\n",
      " 'Undefined Channel' 'Global Distribution System']\n",
      "customer_type_label            object       0        4        ['Transient Guest' 'Contract Client' 'Transient Party' 'Group Booking']\n"
     ]
    }
   ],
   "source": [
    "review_dataframe(df) # review dataframe again to see changes"
   ]
  },
  {
   "cell_type": "markdown",
   "metadata": {},
   "source": [
    "I select columns that include key booking, customer, and reservation details that are relevant for predicting cancellations. These features capture temporal patterns, guest composition, booking behavior, and payment characteristics. Keeping only these columns helps focus the machine learning model on meaningful inputs while removing unrelated information. The target variable is_canceled is included to enable supervised learning.\n"
   ]
  },
  {
   "cell_type": "code",
   "execution_count": 33,
   "metadata": {},
   "outputs": [],
   "source": [
    "# Columns to keep for ML\n",
    "ml_features = [\n",
    "    'hotel', 'lead_time', 'arrival_date_year', 'arrival_date_month',\n",
    "    'weekend_nights', 'week_nights',\n",
    "    'adults', 'children', 'babies',\n",
    "    'is_international',\n",
    "    'market_segment', 'distribution_channel', 'deposit_type',\n",
    "    'days_waiting', 'customer_type', \n",
    "    'is_repeated_guest',\n",
    "    'is_family'\n",
    "]\n",
    "\n",
    "# Include target\n",
    "df_sampled = df[ml_features + ['is_canceled']].copy()"
   ]
  },
  {
   "cell_type": "code",
   "execution_count": 34,
   "metadata": {},
   "outputs": [
    {
     "name": "stdout",
     "output_type": "stream",
     "text": [
      "shape: (80140, 18)\n",
      "duplicates: 7137\n",
      "\n",
      "column                         type         missing  unique   sample values\n",
      "\n",
      "\n",
      "hotel                          object       0        2        ['resort_hotel' 'city_hotel']\n",
      "lead_time                      int64        0        478      [ 7 13 14  0  9]\n",
      "arrival_date_year              int64        0        3        [2015 2016 2017]\n",
      "arrival_date_month             object       0        12       ['july' 'august' 'september' 'october' 'november']\n",
      "weekend_nights                 int64        0        15       [0 1 2 4 3]\n",
      "week_nights                    int64        0        33       [1 2 3 4 5]\n",
      "adults                         int64        0        14       [ 1  2  3  4 40]\n",
      "children                       int32        0        5        [ 0  1  2 10  3]\n",
      "babies                         int64        0        5        [ 0  1  2 10  9]\n",
      "is_international               bool         0        2        [ True False]\n",
      "market_segment                 object       0        7        ['direct' 'corporate' 'online_ta' 'offline_ta_to' 'complementary']\n",
      "distribution_channel           object       0        5        ['direct' 'corporate' 'ta_to' 'undefined' 'gds']\n",
      "deposit_type                   object       0        3        ['no_deposit' 'refundable' 'non_refund']\n",
      "days_waiting                   int64        0        128      [  0  50  47  65 122]\n",
      "customer_type                  object       0        4        ['transient' 'contract' 'transient_party' 'group']\n",
      "is_repeated_guest              bool         0        2        [False  True]\n",
      "is_family                      bool         0        2        [False  True]\n",
      "is_canceled                    bool         0        2        [False  True]\n"
     ]
    }
   ],
   "source": [
    "review_dataframe(df_sampled) # review dataframe again to see changes"
   ]
  },
  {
   "cell_type": "markdown",
   "metadata": {},
   "source": [
    "Duplicates appeared again because after selecting only a subset of columns, some rows that were previously unique became identical. In the full dataset, those records differed in other columns that were later removed. Once those distinguishing columns were dropped, the remaining values matched across multiple rows, creating new duplicates. Therefore, it was necessary to remove them again to maintain data integrity before continuing the analysis."
   ]
  },
  {
   "cell_type": "code",
   "execution_count": 35,
   "metadata": {},
   "outputs": [
    {
     "data": {
      "text/plain": [
       "(73003, 18)"
      ]
     },
     "execution_count": 35,
     "metadata": {},
     "output_type": "execute_result"
    }
   ],
   "source": [
    "df_sampled = df_sampled.drop_duplicates()\n",
    "df_sampled.shape"
   ]
  },
  {
   "cell_type": "markdown",
   "metadata": {},
   "source": [
    "If the target variable is imbalanced (for example, 30% canceled and 70% not canceled), it can negatively affect the machine learning model. The model might learn to favor the majority class (\"not canceled\") because predicting it more often yields higher accuracy, even though it fails to correctly identify cancellations.  \n",
    "To avoid this bias and improve the model’s ability to detect both outcomes, a balanced dataset (50:50) is used for training. This ensures the model sees an equal number of canceled and non-canceled bookings, helping it learn the distinguishing patterns for both classes.  \n",
    "However, for evaluation or real-world predictions, it’s recommended to test on data that reflects the original 30:70 distribution, so model performance remains realistic and representative of actual hotel bookings.\n",
    "\n"
   ]
  },
  {
   "cell_type": "code",
   "execution_count": 36,
   "metadata": {},
   "outputs": [
    {
     "name": "stdout",
     "output_type": "stream",
     "text": [
      "is_canceled\n",
      "False    0.697506\n",
      "True     0.302494\n",
      "Name: proportion, dtype: float64\n"
     ]
    }
   ],
   "source": [
    "print(df_sampled['is_canceled'].value_counts(normalize=True)) # check class balance"
   ]
  },
  {
   "cell_type": "markdown",
   "metadata": {},
   "source": [
    "An equal number of samples (50% canceled, 50% not canceled) are randomly selected from each class to ensure that the model learns patterns from both outcomes equally.  \n",
    "The two subsets are then combined and shuffled, resulting in a balanced dataset of 10,000 records (5,000 from each class).  \n",
    "This balanced sampling helps prevent model bias toward the majority class and improves its ability to correctly identify cancellations."
   ]
  },
  {
   "cell_type": "code",
   "execution_count": 37,
   "metadata": {},
   "outputs": [
    {
     "name": "stdout",
     "output_type": "stream",
     "text": [
      "is_canceled\n",
      "True     0.5\n",
      "False    0.5\n",
      "Name: proportion, dtype: float64\n"
     ]
    },
    {
     "data": {
      "text/plain": [
       "(10000, 18)"
      ]
     },
     "execution_count": 37,
     "metadata": {},
     "output_type": "execute_result"
    }
   ],
   "source": [
    "# Calculate sample sizes for each class based on 50:50 proportions\n",
    "n_total = 10000\n",
    "n_false = n_total // 2\n",
    "n_true = n_total - n_false\n",
    "\n",
    "# Randomly sample from each class\n",
    "df_false = df_sampled[df_sampled['is_canceled'] == False].sample(n=n_false, random_state=42)\n",
    "df_true = df_sampled[df_sampled['is_canceled'] == True].sample(n=n_true, random_state=42)\n",
    "\n",
    "# Concatenate and shuffle the final sample\n",
    "df_sample = pd.concat([df_false, df_true]).sample(frac=1, random_state=42).reset_index(drop=True)\n",
    "print(df_sample['is_canceled'].value_counts(normalize=True))\n",
    "df_sample.shape"
   ]
  },
  {
   "cell_type": "markdown",
   "metadata": {},
   "source": [
    "Only 10,000 rows were sampled to create a balanced dataset for training. Using a smaller, representative subset helps reduce computation time and memory usage, ensuring the machine learning model trains efficiently without slowing down. Despite the reduced size, the sample is large enough to capture meaningful patterns for predicting cancellations."
   ]
  },
  {
   "cell_type": "code",
   "execution_count": 38,
   "metadata": {},
   "outputs": [
    {
     "name": "stdout",
     "output_type": "stream",
     "text": [
      "shape: (10000, 18)\n",
      "duplicates: 0\n",
      "\n",
      "column                         type         missing  unique   sample values\n",
      "\n",
      "\n",
      "hotel                          object       0        2        ['city_hotel' 'resort_hotel']\n",
      "lead_time                      int64        0        405      [173   1  92  17  68]\n",
      "arrival_date_year              int64        0        3        [2016 2015 2017]\n",
      "arrival_date_month             object       0        12       ['september' 'december' 'october' 'november' 'march']\n",
      "weekend_nights                 int64        0        10       [2 0 1 4 5]\n",
      "week_nights                    int64        0        20       [1 3 2 4 8]\n",
      "adults                         int64        0        7        [2 3 1 0 4]\n",
      "children                       int32        0        4        [1 0 2 3]\n",
      "babies                         int64        0        2        [0 1]\n",
      "is_international               bool         0        2        [ True False]\n",
      "market_segment                 object       0        7        ['online_ta' 'direct' 'complementary' 'offline_ta_to' 'groups']\n",
      "distribution_channel           object       0        4        ['ta_to' 'direct' 'corporate' 'gds']\n",
      "deposit_type                   object       0        3        ['no_deposit' 'non_refund' 'refundable']\n",
      "days_waiting                   int64        0        54       [  0  98 207  34  65]\n",
      "customer_type                  object       0        4        ['transient' 'group' 'transient_party' 'contract']\n",
      "is_repeated_guest              bool         0        2        [False  True]\n",
      "is_family                      bool         0        2        [ True False]\n",
      "is_canceled                    bool         0        2        [ True False]\n"
     ]
    }
   ],
   "source": [
    "review_dataframe(df_sample)"
   ]
  },
  {
   "cell_type": "markdown",
   "metadata": {},
   "source": [
    "Now, I identify all categorical columns in the dataset by selecting columns with data type \"object\"   \n",
    "This helps understand the range of categories in the data, detect potential data quality issues (such as typos or inconsistent labels), and prepare the features for machine learning (e.g., encoding them into numerical format).\n"
   ]
  },
  {
   "cell_type": "code",
   "execution_count": 39,
   "metadata": {},
   "outputs": [
    {
     "name": "stdout",
     "output_type": "stream",
     "text": [
      "Column: hotel\n",
      "Unique values (2): ['city_hotel' 'resort_hotel']\n",
      "\n",
      "Column: arrival_date_month\n",
      "Unique values (12): ['september' 'december' 'october' 'november' 'march' 'august' 'april'\n",
      " 'june' 'may' 'july' 'january' 'february']\n",
      "\n",
      "Column: market_segment\n",
      "Unique values (7): ['online_ta' 'direct' 'complementary' 'offline_ta_to' 'groups' 'corporate'\n",
      " 'aviation']\n",
      "\n",
      "Column: distribution_channel\n",
      "Unique values (4): ['ta_to' 'direct' 'corporate' 'gds']\n",
      "\n",
      "Column: deposit_type\n",
      "Unique values (3): ['no_deposit' 'non_refund' 'refundable']\n",
      "\n",
      "Column: customer_type\n",
      "Unique values (4): ['transient' 'group' 'transient_party' 'contract']\n",
      "\n"
     ]
    }
   ],
   "source": [
    "categorical_cols = df_sample.select_dtypes(include='object').columns.tolist() # identify categorical columns\n",
    "for col in categorical_cols: # review unique values in each categorical column\n",
    "    unique_vals = df_sample[col].unique()\n",
    "    print(f\"Column: {col}\")\n",
    "    print(f\"Unique values ({len(unique_vals)}): {unique_vals}\\n\")"
   ]
  },
  {
   "cell_type": "markdown",
   "metadata": {},
   "source": [
    "The next step is to prepare categorical features for machine learning by converting them into numerical representations. The hotel column is encoded as a binary variable, with 0 representing city hotels and 1 representing resort hotels. The arrival_date_month column is mapped from month names to integers (January = 1, February = 2, … December = 12) to capture temporal order. Multi-class categorical columns such as market_segment, distribution_channel, deposit_type, and customer_type are transformed using one-hot encoding, creating separate binary columns for each category while dropping the first category to avoid multicollinearity. These transformations ensure that all categorical features are represented numerically, making them suitable for machine learning algorithms."
   ]
  },
  {
   "cell_type": "code",
   "execution_count": 40,
   "metadata": {},
   "outputs": [],
   "source": [
    "# Encode hotel as binary\n",
    "df_sample['hotel'] = df_sample['hotel'].map({'city_hotel': 0, 'resort_hotel': 1})\n",
    "\n",
    "# Encode arrival month as integers\n",
    "month_map = {'january': 1, 'february': 2, 'march': 3, 'april': 4, 'may': 5, 'june': 6,\n",
    "             'july': 7, 'august': 8, 'september': 9, 'october': 10, 'november': 11, 'december': 12}\n",
    "df_sample['arrival_date_month'] = df_sample['arrival_date_month'].map(month_map)\n",
    "\n",
    "# One-hot encode multi-class categorical columns\n",
    "df_sample = pd.get_dummies(df_sample, columns=['market_segment', 'distribution_channel', \n",
    "                                               'deposit_type', 'customer_type'], drop_first=True)"
   ]
  },
  {
   "cell_type": "code",
   "execution_count": 41,
   "metadata": {},
   "outputs": [
    {
     "name": "stdout",
     "output_type": "stream",
     "text": [
      "shape: (10000, 28)\n",
      "duplicates: 0\n",
      "\n",
      "column                         type         missing  unique   sample values\n",
      "\n",
      "\n",
      "hotel                          int64        0        2        [0 1]\n",
      "lead_time                      int64        0        405      [173   1  92  17  68]\n",
      "arrival_date_year              int64        0        3        [2016 2015 2017]\n",
      "arrival_date_month             int64        0        12       [ 9 12 10 11  3]\n",
      "weekend_nights                 int64        0        10       [2 0 1 4 5]\n",
      "week_nights                    int64        0        20       [1 3 2 4 8]\n",
      "adults                         int64        0        7        [2 3 1 0 4]\n",
      "children                       int32        0        4        [1 0 2 3]\n",
      "babies                         int64        0        2        [0 1]\n",
      "is_international               bool         0        2        [ True False]\n",
      "days_waiting                   int64        0        54       [  0  98 207  34  65]\n",
      "is_repeated_guest              bool         0        2        [False  True]\n",
      "is_family                      bool         0        2        [ True False]\n",
      "is_canceled                    bool         0        2        [ True False]\n",
      "market_segment_complementary   bool         0        2        [False  True]\n",
      "market_segment_corporate       bool         0        2        [False  True]\n",
      "market_segment_direct          bool         0        2        [False  True]\n",
      "market_segment_groups          bool         0        2        [False  True]\n",
      "market_segment_offline_ta_to   bool         0        2        [False  True]\n",
      "market_segment_online_ta       bool         0        2        [ True False]\n",
      "distribution_channel_direct    bool         0        2        [False  True]\n",
      "distribution_channel_gds       bool         0        2        [False  True]\n",
      "distribution_channel_ta_to     bool         0        2        [ True False]\n",
      "deposit_type_non_refund        bool         0        2        [False  True]\n",
      "deposit_type_refundable        bool         0        2        [False  True]\n",
      "customer_type_group            bool         0        2        [False  True]\n",
      "customer_type_transient        bool         0        2        [ True False]\n",
      "customer_type_transient_party  bool         0        2        [False  True]\n"
     ]
    }
   ],
   "source": [
    "review_dataframe(df_sample) # review dataframe again to see changes"
   ]
  },
  {
   "cell_type": "markdown",
   "metadata": {},
   "source": [
    "Finally - I save the processed dataset to a CSV file named hotel_bookings_sample.csv. At this stage, only categorical features have been encoded (binary and one-hot encoding), while numerical features are kept as-is. This is because the planned machine learning algorithm, Random Forest, can handle raw numerical values directly and does not require scaling or normalization. Encoding categorical features ensures the model can interpret them correctly, while leaving numerical features untouched preserves their original magnitudes and relationships."
   ]
  },
  {
   "cell_type": "code",
   "execution_count": 42,
   "metadata": {},
   "outputs": [],
   "source": [
    "df_sample.to_csv(\"data/clean/hotel_bookings_sample.csv\", index=False)"
   ]
  },
  {
   "cell_type": "markdown",
   "metadata": {},
   "source": [
    "NOTE"
   ]
  },
  {
   "cell_type": "markdown",
   "metadata": {},
   "source": [
    "* All notebook's cells should be run top-down (you can't create a dynamic wherein a given point you need to go back to a previous cell to execute some task, like go back to a previous cell and refresh a variable content)"
   ]
  },
  {
   "cell_type": "markdown",
   "metadata": {},
   "source": [
    "---"
   ]
  }
 ],
 "metadata": {
  "accelerator": "GPU",
  "colab": {
   "name": "Data Practitioner Jupyter Notebook.ipynb",
   "provenance": [],
   "toc_visible": true
  },
  "kernelspec": {
   "display_name": ".venv",
   "language": "python",
   "name": "python3"
  },
  "language_info": {
   "codemirror_mode": {
    "name": "ipython",
    "version": 3
   },
   "file_extension": ".py",
   "mimetype": "text/x-python",
   "name": "python",
   "nbconvert_exporter": "python",
   "pygments_lexer": "ipython3",
   "version": "3.12.8"
  },
  "orig_nbformat": 2
 },
 "nbformat": 4,
 "nbformat_minor": 2
}
