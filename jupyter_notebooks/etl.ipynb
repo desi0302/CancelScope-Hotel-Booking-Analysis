{
  "cells": [
    {
      "cell_type": "markdown",
      "metadata": {
        "id": "0aStgWSO0E0E"
      },
      "source": [
        "# **Extract, Transform, Load**"
      ]
    },
    {
      "cell_type": "markdown",
      "metadata": {
        "id": "1eLEkw5O0ECa"
      },
      "source": [
        "## Objectives\n",
        "\n",
        "* Fetch data from Kaggle and save as raw data\n",
        "* Clean and transform data\n",
        "* Engineer features for modelling\n",
        "* Validate and document etl process\n",
        "\n",
        "## Inputs\n",
        "\n",
        "* data/raw/hotel_bookings.csv\n",
        "\n",
        "## Outputs\n",
        "\n",
        "* hotel_bookings_clean.csv\n",
        "* hotel_bookings_sample.csv\n",
        "\n",
        "## Additional Comments\n",
        "\n",
        "* If you have any additional comments that don't fit in the previous bullets, please state them here. \n",
        "\n"
      ]
    },
    {
      "cell_type": "markdown",
      "metadata": {
        "id": "9uWZXH9LwoQg"
      },
      "source": [
        "---"
      ]
    },
    {
      "cell_type": "markdown",
      "metadata": {
        "id": "cqP-UeN-z3i2"
      },
      "source": [
        "# Change working directory"
      ]
    },
    {
      "cell_type": "markdown",
      "metadata": {},
      "source": [
        "* We are assuming you will store the notebooks in a subfolder, therefore when running the notebook in the editor, you will need to change the working directory"
      ]
    },
    {
      "cell_type": "markdown",
      "metadata": {
        "id": "aOGIGS-uz3i2"
      },
      "source": [
        "We need to change the working directory from its current folder to its parent folder\n",
        "* We access the current directory with os.getcwd()"
      ]
    },
    {
      "cell_type": "code",
      "execution_count": 1,
      "metadata": {
        "id": "wZfF_j-Bz3i4",
        "outputId": "66943449-1436-4c3d-85c7-b85f9f78349b"
      },
      "outputs": [
        {
          "data": {
            "text/plain": [
              "'d:\\\\vscode-projects\\\\CancelScope-Hotel-Booking-Analysis\\\\jupyter_notebooks'"
            ]
          },
          "execution_count": 1,
          "metadata": {},
          "output_type": "execute_result"
        }
      ],
      "source": [
        "import os\n",
        "current_dir = os.getcwd()\n",
        "current_dir"
      ]
    },
    {
      "cell_type": "markdown",
      "metadata": {
        "id": "9MWW8E7lz3i7"
      },
      "source": [
        "We want to make the parent of the current directory the new current directory\n",
        "* os.path.dirname() gets the parent directory\n",
        "* os.chir() defines the new current directory"
      ]
    },
    {
      "cell_type": "code",
      "execution_count": 2,
      "metadata": {
        "id": "TwHsQRWjz3i9",
        "outputId": "86849db3-cd2f-4cc5-ebb8-2d0caafa1a2c"
      },
      "outputs": [
        {
          "name": "stdout",
          "output_type": "stream",
          "text": [
            "You set a new current directory\n"
          ]
        }
      ],
      "source": [
        "os.chdir(os.path.dirname(current_dir))\n",
        "print(\"You set a new current directory\")"
      ]
    },
    {
      "cell_type": "markdown",
      "metadata": {
        "id": "M_xPk_Ijz3i-"
      },
      "source": [
        "Confirm the new current directory"
      ]
    },
    {
      "cell_type": "code",
      "execution_count": 3,
      "metadata": {
        "id": "vz3S-_kjz3jA",
        "outputId": "00b79ae4-75d0-4a96-d193-ac9ef9847ea2"
      },
      "outputs": [
        {
          "data": {
            "text/plain": [
              "'d:\\\\vscode-projects\\\\CancelScope-Hotel-Booking-Analysis'"
            ]
          },
          "execution_count": 3,
          "metadata": {},
          "output_type": "execute_result"
        }
      ],
      "source": [
        "current_dir = os.getcwd()\n",
        "current_dir"
      ]
    },
    {
      "cell_type": "markdown",
      "metadata": {
        "id": "-mavJ8DibrcQ"
      },
      "source": [
        "# Data understanding, cleaning, preprocessing"
      ]
    },
    {
      "cell_type": "markdown",
      "metadata": {},
      "source": [
        "Importing neccessary libraries"
      ]
    },
    {
      "cell_type": "code",
      "execution_count": 4,
      "metadata": {},
      "outputs": [],
      "source": [
        "import numpy as np\n",
        "import pandas as pd\n",
        "import matplotlib.pyplot as plt"
      ]
    },
    {
      "cell_type": "markdown",
      "metadata": {},
      "source": [
        "Read and extract dataset"
      ]
    },
    {
      "cell_type": "code",
      "execution_count": 5,
      "metadata": {},
      "outputs": [],
      "source": [
        "df = pd.read_csv(\"data/raw/hotel_bookings.csv\")"
      ]
    },
    {
      "cell_type": "code",
      "execution_count": 6,
      "metadata": {},
      "outputs": [],
      "source": [
        "def review_dataframe(df):\n",
        "    \"\"\"\n",
        "    Prints a summary of the dataframe including shape, duplicate count,\n",
        "    and for each column: type, missing count, unique count, and sample values.\n",
        "    \"\"\"\n",
        "    print(f\"shape: {df.shape}\") # (rows, columns)\n",
        "    print(f\"duplicates: {df.duplicated().sum()}\\n\") # count of duplicate rows\n",
        "\n",
        "    print(f\"{'column':<30} {'type':<12} {'missing':<8} {'unique':<8} {'sample values'}\")\n",
        "    print(\"\\n\")\n",
        "    for col in df.columns:\n",
        "        dtype = df[col].dtype\n",
        "        missing = df[col].isnull().sum()\n",
        "        unique_count = df[col].nunique(dropna=True)\n",
        "        sample_values = df[col].dropna().unique()[:5]\n",
        "        print(f\"{col:<30} {str(dtype):<12} {missing:<8} {unique_count:<8} {sample_values}\")"
      ]
    },
    {
      "cell_type": "markdown",
      "metadata": {},
      "source": [
        "Visualise columns and statistics in a read friendly format"
      ]
    },
    {
      "cell_type": "code",
      "execution_count": 7,
      "metadata": {},
      "outputs": [
        {
          "name": "stdout",
          "output_type": "stream",
          "text": [
            "shape: (119390, 32)\n",
            "duplicates: 31994\n",
            "\n",
            "column                         type         missing  unique   sample values\n",
            "\n",
            "\n",
            "hotel                          object       0        2        ['Resort Hotel' 'City Hotel']\n",
            "is_canceled                    int64        0        2        [0 1]\n",
            "lead_time                      int64        0        479      [342 737   7  13  14]\n",
            "arrival_date_year              int64        0        3        [2015 2016 2017]\n",
            "arrival_date_month             object       0        12       ['July' 'August' 'September' 'October' 'November']\n",
            "arrival_date_week_number       int64        0        53       [27 28 29 30 31]\n",
            "arrival_date_day_of_month      int64        0        31       [1 2 3 4 5]\n",
            "stays_in_weekend_nights        int64        0        17       [0 1 2 4 3]\n",
            "stays_in_week_nights           int64        0        35       [0 1 2 3 4]\n",
            "adults                         int64        0        14       [ 2  1  3  4 40]\n",
            "children                       float64      4        5        [ 0.  1.  2. 10.  3.]\n",
            "babies                         int64        0        5        [ 0  1  2 10  9]\n",
            "meal                           object       0        5        ['BB' 'FB' 'HB' 'SC' 'Undefined']\n",
            "country                        object       488      177      ['PRT' 'GBR' 'USA' 'ESP' 'IRL']\n",
            "market_segment                 object       0        8        ['Direct' 'Corporate' 'Online TA' 'Offline TA/TO' 'Complementary']\n",
            "distribution_channel           object       0        5        ['Direct' 'Corporate' 'TA/TO' 'Undefined' 'GDS']\n",
            "is_repeated_guest              int64        0        2        [0 1]\n",
            "previous_cancellations         int64        0        15       [ 0  1  2  3 26]\n",
            "previous_bookings_not_canceled int64        0        73       [0 1 2 3 4]\n",
            "reserved_room_type             object       0        10       ['C' 'A' 'D' 'E' 'G']\n",
            "assigned_room_type             object       0        12       ['C' 'A' 'D' 'E' 'G']\n",
            "booking_changes                int64        0        21       [3 4 0 1 2]\n",
            "deposit_type                   object       0        3        ['No Deposit' 'Refundable' 'Non Refund']\n",
            "agent                          float64      16340    333      [304. 240. 303.  15. 241.]\n",
            "company                        float64      112593   352      [110. 113. 270. 178. 240.]\n",
            "days_in_waiting_list           int64        0        128      [  0  50  47  65 122]\n",
            "customer_type                  object       0        4        ['Transient' 'Contract' 'Transient-Party' 'Group']\n",
            "adr                            float64      0        8879     [  0.  75.  98. 107. 103.]\n",
            "required_car_parking_spaces    int64        0        5        [0 1 2 8 3]\n",
            "total_of_special_requests      int64        0        6        [0 1 3 2 4]\n",
            "reservation_status             object       0        3        ['Check-Out' 'Canceled' 'No-Show']\n",
            "reservation_status_date        object       0        926      ['2015-07-01' '2015-07-02' '2015-07-03' '2015-05-06' '2015-04-22']\n"
          ]
        }
      ],
      "source": [
        "review_dataframe(df)"
      ]
    },
    {
      "cell_type": "code",
      "execution_count": 8,
      "metadata": {},
      "outputs": [
        {
          "data": {
            "text/plain": [
              "(86940, 32)"
            ]
          },
          "execution_count": 8,
          "metadata": {},
          "output_type": "execute_result"
        }
      ],
      "source": [
        "df = df.drop_duplicates() #remove duplicate rows\n",
        "df = df.dropna(subset=['children', 'country',]) #remove rows with missing values in children and country columns\n",
        "df.shape"
      ]
    },
    {
      "cell_type": "markdown",
      "metadata": {},
      "source": [
        "Columns to drop:\n",
        "- meal - meal type can often be changed after arrival at the hotel \n",
        "- booking_changes - booking changes directly correspond with group booking\n",
        "- agent - mostly IDs or missing values, and does not provide meaningful predictive information for cancellations\n",
        "- company - again, mostly IDs or missing values, and is not useful for modeling cancellations\n",
        "- adr - average revenue earned per day per occupied room,measures pricing and revenue performance, not needed for the current analysis\n",
        "- required_car_parking_spaces - high correspondance to group visits, could misslead analysis\n",
        "- total_of_special_requests - high correspondance to group visits, could misslead analysis\n",
        "- reservation_status - describes a final state of reservation, already captured in is_canceled\n",
        "- reservation_status_date - records the date when the reservation status was set,it is only known after the booking outcome so it cannot be used for predicting cancellations at the time of booking\n",
        "- arrival_date_week_number - redundant with arrival_date_month and arrival_date_day_of_month, and does not add predictive value for cancellations"
      ]
    },
    {
      "cell_type": "code",
      "execution_count": 9,
      "metadata": {},
      "outputs": [
        {
          "data": {
            "text/plain": [
              "(86940, 22)"
            ]
          },
          "execution_count": 9,
          "metadata": {},
          "output_type": "execute_result"
        }
      ],
      "source": [
        "df = df.drop([\n",
        "    'meal',\n",
        "    'agent',\n",
        "    'booking_changes',\n",
        "    'company',\n",
        "    'adr',\n",
        "    'required_car_parking_spaces',\n",
        "    'total_of_special_requests',\n",
        "    'reservation_status',\n",
        "    'reservation_status_date',\n",
        "    'arrival_date_week_number'\n",
        "], axis=1)\n",
        "df.shape\n"
      ]
    },
    {
      "cell_type": "code",
      "execution_count": 10,
      "metadata": {},
      "outputs": [
        {
          "name": "stdout",
          "output_type": "stream",
          "text": [
            "assigned/reserved mismatch: 609\n"
          ]
        }
      ],
      "source": [
        "cancelled_diff_room_type = df[\n",
        "    (df['is_canceled'] == 1) & \n",
        "    (df['assigned_room_type'] != df['reserved_room_type'])\n",
        "]\n",
        "count = cancelled_diff_room_type.shape[0]\n",
        "print(f\"assigned/reserved mismatch: {count}\")"
      ]
    },
    {
      "cell_type": "code",
      "execution_count": 11,
      "metadata": {},
      "outputs": [
        {
          "name": "stdout",
          "output_type": "stream",
          "text": [
            "mismatched and canceled: 609\n",
            "% of total canceled bookings that had a mismatch: 2.54%\n"
          ]
        }
      ],
      "source": [
        "mismatch_canceled = df[(df['is_canceled'] == 1) & (df['reserved_room_type'] != df['assigned_room_type'])].shape[0]\n",
        "percent_canceled_mismatch = mismatch_canceled / df['is_canceled'].sum() * 100\n",
        "\n",
        "print(f\"mismatched and canceled: {mismatch_canceled}\")\n",
        "print(f\"% of total canceled bookings that had a mismatch: {percent_canceled_mismatch:.2f}%\")\n"
      ]
    },
    {
      "cell_type": "code",
      "execution_count": 12,
      "metadata": {},
      "outputs": [],
      "source": [
        "df = df.drop(['assigned_room_type', 'reserved_room_type'], axis=1)\n"
      ]
    },
    {
      "cell_type": "markdown",
      "metadata": {},
      "source": [
        " reserved_room_type and assigned_room_type were dropped because asigned_room_type is only recorded after check-in so it is not relevant for analysis of pre -arrival data and could introduce inconsistencies. Reserved_room_type provides limited insight for the current analysis and may be redundant with other booking information. Removing both columns simplifies the dataset and ensures only relevant & reliable features are retained for downstream processing. Also, room types are just indicative and do not describe the real room type. Further analysis for that which room is prefered or not cannot be done due to the lack of information."
      ]
    },
    {
      "cell_type": "markdown",
      "metadata": {},
      "source": [
        "# New Features"
      ]
    },
    {
      "cell_type": "code",
      "execution_count": 13,
      "metadata": {},
      "outputs": [
        {
          "name": "stdout",
          "output_type": "stream",
          "text": [
            "793\n",
            "0   2015-07-01\n",
            "1   2015-07-01\n",
            "2   2015-07-01\n",
            "3   2015-07-01\n",
            "4   2015-07-01\n",
            "Name: arrival_date, dtype: datetime64[ns]\n"
          ]
        }
      ],
      "source": [
        "import calendar\n",
        "\n",
        "# Create a mapping from month name to month number\n",
        "month_map = {month: str(index).zfill(2) for index, month in enumerate(calendar.month_name) if month}\n",
        "\n",
        "df['arrival_date'] = pd.to_datetime(\n",
        "    df['arrival_date_day_of_month'].astype(str).str.zfill(2) + '-' +\n",
        "    df['arrival_date_month'].map(month_map) + '-' +\n",
        "    df['arrival_date_year'].astype(str),\n",
        "    format='%d-%m-%Y',\n",
        "    dayfirst=True\n",
        ")\n",
        "\n",
        "print(df['arrival_date'].nunique()) # verify number of unique values in the column\n",
        "print(df['arrival_date'].head()) # display first 5"
      ]
    },
    {
      "cell_type": "code",
      "execution_count": 14,
      "metadata": {},
      "outputs": [],
      "source": [
        "df = df.drop(['arrival_date_day_of_month', 'arrival_date_month', 'arrival_date_year'], axis=1) # drop the original columns"
      ]
    },
    {
      "cell_type": "code",
      "execution_count": 15,
      "metadata": {},
      "outputs": [
        {
          "name": "stdout",
          "output_type": "stream",
          "text": [
            "shape: (86940, 18)\n",
            "duplicates: 6064\n",
            "\n",
            "column                         type         missing  unique   sample values\n",
            "\n",
            "\n",
            "hotel                          object       0        2        ['Resort Hotel' 'City Hotel']\n",
            "is_canceled                    int64        0        2        [0 1]\n",
            "lead_time                      int64        0        479      [342 737   7  13  14]\n",
            "stays_in_weekend_nights        int64        0        15       [0 1 2 4 3]\n",
            "stays_in_week_nights           int64        0        33       [0 1 2 3 4]\n",
            "adults                         int64        0        14       [ 2  1  3  4 40]\n",
            "children                       float64      0        5        [ 0.  1.  2. 10.  3.]\n",
            "babies                         int64        0        5        [ 0  1  2 10  9]\n",
            "country                        object       0        177      ['PRT' 'GBR' 'USA' 'ESP' 'IRL']\n",
            "market_segment                 object       0        7        ['Direct' 'Corporate' 'Online TA' 'Offline TA/TO' 'Complementary']\n",
            "distribution_channel           object       0        5        ['Direct' 'Corporate' 'TA/TO' 'Undefined' 'GDS']\n",
            "is_repeated_guest              int64        0        2        [0 1]\n",
            "previous_cancellations         int64        0        15       [ 0  1  2  3 26]\n",
            "previous_bookings_not_canceled int64        0        73       [0 1 2 3 5]\n",
            "deposit_type                   object       0        3        ['No Deposit' 'Refundable' 'Non Refund']\n",
            "days_in_waiting_list           int64        0        128      [  0  50  47  65 122]\n",
            "customer_type                  object       0        4        ['Transient' 'Contract' 'Transient-Party' 'Group']\n",
            "arrival_date                   datetime64[ns] 0        793      <DatetimeArray>\n",
            "['2015-07-01 00:00:00', '2015-07-02 00:00:00', '2015-07-03 00:00:00',\n",
            " '2015-07-04 00:00:00', '2015-07-05 00:00:00']\n",
            "Length: 5, dtype: datetime64[ns]\n"
          ]
        }
      ],
      "source": [
        "review_dataframe(df)"
      ]
    },
    {
      "cell_type": "markdown",
      "metadata": {},
      "source": [
        "Change types"
      ]
    },
    {
      "cell_type": "code",
      "execution_count": 16,
      "metadata": {},
      "outputs": [],
      "source": [
        "df['children'] = df['children'].astype(int)\n",
        "df['is_canceled'] = df['is_canceled'].astype(bool)\n",
        "df['is_repeated_guest'] = df['is_repeated_guest'].astype(bool)\n"
      ]
    },
    {
      "cell_type": "markdown",
      "metadata": {},
      "source": [
        "new columns:\n",
        "- total_stay: a single numeric feature  is easier to analyze and model than two separate columns. Total length of stay often correlates with cancellation behaviourand is useful for EDA and models.\n",
        "- is_family - vallue will be true for bookings with more than one adult and at least one child or baby and false otherwise. Family bookings may have different cancellation patterns and preferences.\n",
        "- cancellation_ratio: represents the proportion of previous bookings that were canceled.The small value 1e-6 is added to the denominator to avoid division by zero. The column will clarify what fraction of the bookings that a gues made were canceled. For guests with no previous bookings at all (both fields zero), this ratio is zero.If there are many first-time guests with no booking history, then this feature will be zero for them which is logical."
      ]
    },
    {
      "cell_type": "code",
      "execution_count": 17,
      "metadata": {
        "vscode": {
          "languageId": "ruby"
        }
      },
      "outputs": [],
      "source": [
        "df['total_stay'] = df['stays_in_weekend_nights'] + df['stays_in_week_nights']\n",
        "df['is_family'] = ((df['adults'] >= 1) & ((df['children'] >= 1) | (df['babies'] >= 1)))\n",
        "df['cancellation_ratio'] = df['previous_cancellations'] / (df['previous_cancellations'] + df['previous_bookings_not_canceled'] + 1e-6)\n",
        "df['total_guests'] = df['adults'] + df['children'] + df['babies']"
      ]
    },
    {
      "cell_type": "code",
      "execution_count": 18,
      "metadata": {},
      "outputs": [
        {
          "data": {
            "text/plain": [
              "(86940, 20)"
            ]
          },
          "execution_count": 18,
          "metadata": {},
          "output_type": "execute_result"
        }
      ],
      "source": [
        "df = df.drop(['previous_cancellations', 'previous_bookings_not_canceled'], axis=1)\n",
        "df.shape"
      ]
    },
    {
      "cell_type": "markdown",
      "metadata": {},
      "source": [
        "I decide to analyse deeper if 0 values of the stay_length correspond to canceled reservations, which would be a realistic scenario.\n",
        "My hypotheseis is that if a reservation is NOT canceled (is_canceled=False) the stay in the hotel must be at least 1 night (stay_length >=1)"
      ]
    },
    {
      "cell_type": "code",
      "execution_count": 19,
      "metadata": {},
      "outputs": [
        {
          "name": "stdout",
          "output_type": "stream",
          "text": [
            "Rows where reservation was not canceled and stay length is zero: 617\n"
          ]
        }
      ],
      "source": [
        "not_canceled_zero_stay = df[(df['is_canceled'] == False) & (df['total_stay'] == 0)]\n",
        "print(f\"Rows where reservation was not canceled and stay length is zero: {not_canceled_zero_stay.shape[0]}\")\n"
      ]
    },
    {
      "cell_type": "markdown",
      "metadata": {},
      "source": [
        "The above check shows lack of llogic in a real-world hotel data. A non-canceled reservation should have at least one night. For that reason I decide to remove the 617 rows with not canceled reservations but zero stay length, as they represent some kind of data error."
      ]
    },
    {
      "cell_type": "code",
      "execution_count": 20,
      "metadata": {},
      "outputs": [
        {
          "data": {
            "text/plain": [
              "(86323, 20)"
            ]
          },
          "execution_count": 20,
          "metadata": {},
          "output_type": "execute_result"
        }
      ],
      "source": [
        "df = df[~((df['is_canceled'] == False) & (df['total_stay'] == 0))]\n",
        "df.shape"
      ]
    },
    {
      "cell_type": "code",
      "execution_count": 21,
      "metadata": {},
      "outputs": [
        {
          "name": "stdout",
          "output_type": "stream",
          "text": [
            "shape: (86323, 20)\n",
            "duplicates: 6183\n",
            "\n",
            "column                         type         missing  unique   sample values\n",
            "\n",
            "\n",
            "hotel                          object       0        2        ['Resort Hotel' 'City Hotel']\n",
            "is_canceled                    bool         0        2        [False  True]\n",
            "lead_time                      int64        0        478      [ 7 13 14  0  9]\n",
            "stays_in_weekend_nights        int64        0        15       [0 1 2 4 3]\n",
            "stays_in_week_nights           int64        0        33       [1 2 3 4 5]\n",
            "adults                         int64        0        14       [ 1  2  3  4 40]\n",
            "children                       int32        0        5        [ 0  1  2 10  3]\n",
            "babies                         int64        0        5        [ 0  1  2 10  9]\n",
            "country                        object       0        177      ['GBR' 'PRT' 'USA' 'ESP' 'IRL']\n",
            "market_segment                 object       0        7        ['Direct' 'Corporate' 'Online TA' 'Offline TA/TO' 'Complementary']\n",
            "distribution_channel           object       0        5        ['Direct' 'Corporate' 'TA/TO' 'Undefined' 'GDS']\n",
            "is_repeated_guest              bool         0        2        [False  True]\n",
            "deposit_type                   object       0        3        ['No Deposit' 'Refundable' 'Non Refund']\n",
            "days_in_waiting_list           int64        0        128      [  0  50  47  65 122]\n",
            "customer_type                  object       0        4        ['Transient' 'Contract' 'Transient-Party' 'Group']\n",
            "arrival_date                   datetime64[ns] 0        793      <DatetimeArray>\n",
            "['2015-07-01 00:00:00', '2015-07-02 00:00:00', '2015-07-03 00:00:00',\n",
            " '2015-07-04 00:00:00', '2015-07-05 00:00:00']\n",
            "Length: 5, dtype: datetime64[ns]\n",
            "total_stay                     int64        0        43       [1 2 3 4 5]\n",
            "is_family                      bool         0        2        [False  True]\n",
            "cancellation_ratio             float64      0        171      [0.         0.49999975 0.33333322 0.24999994 0.19999996]\n",
            "total_guests                   int64        0        15       [1 2 3 4 5]\n"
          ]
        }
      ],
      "source": [
        "review_dataframe(df)"
      ]
    },
    {
      "cell_type": "code",
      "execution_count": 22,
      "metadata": {},
      "outputs": [
        {
          "data": {
            "text/plain": [
              "(80140, 20)"
            ]
          },
          "execution_count": 22,
          "metadata": {},
          "output_type": "execute_result"
        }
      ],
      "source": [
        "df = df.drop_duplicates()\n",
        "df.shape"
      ]
    },
    {
      "cell_type": "code",
      "execution_count": 23,
      "metadata": {
        "vscode": {
          "languageId": "javascript"
        }
      },
      "outputs": [],
      "source": [
        "df = df.rename(columns={\n",
        "    'stays_in_weekend_nights': 'weekend_nights',\n",
        "    'stays_in_week_nights': 'week_nights',\n",
        "    'days_in_waiting_list': 'days_waiting'\n",
        "})\n"
      ]
    },
    {
      "cell_type": "code",
      "execution_count": 24,
      "metadata": {},
      "outputs": [],
      "source": [
        "def clean_string_columns(df):\n",
        "    \"\"\"\n",
        "    Cleans string columns in the given DataFrame by converting all text to lowercase\n",
        "    and replacing '-', '!', '/', and spaces with underscores. Only columns with\n",
        "    object (string) dtype are processed.\n",
        "\n",
        "    Parameters\n",
        "    ----------\n",
        "    df : pandas.DataFrame\n",
        "        The input DataFrame whose string columns will be cleaned.\n",
        "\n",
        "    Returns\n",
        "    -------\n",
        "    pandas.DataFrame\n",
        "        The DataFrame with cleaned string columns.\n",
        "    \"\"\"\n",
        "    # Only apply to object (string) columns\n",
        "    for col in df.select_dtypes(include='object').columns:\n",
        "        df[col] = df[col].str.lower().str.replace(r'[-!/ ]', '_', regex=True)\n",
        "    return df\n",
        "\n",
        "df = clean_string_columns(df)"
      ]
    },
    {
      "cell_type": "code",
      "execution_count": 25,
      "metadata": {},
      "outputs": [
        {
          "name": "stdout",
          "output_type": "stream",
          "text": [
            "shape: (80140, 20)\n",
            "duplicates: 0\n",
            "\n",
            "column                         type         missing  unique   sample values\n",
            "\n",
            "\n",
            "hotel                          object       0        2        ['resort_hotel' 'city_hotel']\n",
            "is_canceled                    bool         0        2        [False  True]\n",
            "lead_time                      int64        0        478      [ 7 13 14  0  9]\n",
            "weekend_nights                 int64        0        15       [0 1 2 4 3]\n",
            "week_nights                    int64        0        33       [1 2 3 4 5]\n",
            "adults                         int64        0        14       [ 1  2  3  4 40]\n",
            "children                       int32        0        5        [ 0  1  2 10  3]\n",
            "babies                         int64        0        5        [ 0  1  2 10  9]\n",
            "country                        object       0        177      ['gbr' 'prt' 'usa' 'esp' 'irl']\n",
            "market_segment                 object       0        7        ['direct' 'corporate' 'online_ta' 'offline_ta_to' 'complementary']\n",
            "distribution_channel           object       0        5        ['direct' 'corporate' 'ta_to' 'undefined' 'gds']\n",
            "is_repeated_guest              bool         0        2        [False  True]\n",
            "deposit_type                   object       0        3        ['no_deposit' 'refundable' 'non_refund']\n",
            "days_waiting                   int64        0        128      [  0  50  47  65 122]\n",
            "customer_type                  object       0        4        ['transient' 'contract' 'transient_party' 'group']\n",
            "arrival_date                   datetime64[ns] 0        793      <DatetimeArray>\n",
            "['2015-07-01 00:00:00', '2015-07-02 00:00:00', '2015-07-03 00:00:00',\n",
            " '2015-07-04 00:00:00', '2015-07-05 00:00:00']\n",
            "Length: 5, dtype: datetime64[ns]\n",
            "total_stay                     int64        0        43       [1 2 3 4 5]\n",
            "is_family                      bool         0        2        [False  True]\n",
            "cancellation_ratio             float64      0        171      [0.         0.49999975 0.33333322 0.24999994 0.19999996]\n",
            "total_guests                   int64        0        15       [1 2 3 4 5]\n"
          ]
        }
      ],
      "source": [
        "review_dataframe(df)"
      ]
    },
    {
      "cell_type": "markdown",
      "metadata": {},
      "source": [
        "# Check and Handle Outliars"
      ]
    },
    {
      "cell_type": "markdown",
      "metadata": {},
      "source": []
    },
    {
      "cell_type": "markdown",
      "metadata": {},
      "source": []
    },
    {
      "cell_type": "markdown",
      "metadata": {},
      "source": [
        "NOTE"
      ]
    },
    {
      "cell_type": "markdown",
      "metadata": {},
      "source": [
        "* You may add as many sections as you want, as long as it supports your project workflow.\n",
        "* All notebook's cells should be run top-down (you can't create a dynamic wherein a given point you need to go back to a previous cell to execute some task, like go back to a previous cell and refresh a variable content)"
      ]
    },
    {
      "cell_type": "markdown",
      "metadata": {},
      "source": [
        "---"
      ]
    },
    {
      "cell_type": "markdown",
      "metadata": {
        "id": "ltNetd085qHf"
      },
      "source": [
        "# Push files to Repo"
      ]
    },
    {
      "cell_type": "markdown",
      "metadata": {},
      "source": [
        "* In cases where you don't need to push files to Repo, you may replace this section with \"Conclusions and Next Steps\" and state your conclusions and next steps."
      ]
    },
    {
      "cell_type": "code",
      "execution_count": null,
      "metadata": {
        "id": "aKlnIozA4eQO",
        "outputId": "fd09bc1f-adb1-4511-f6ce-492a6af570c0"
      },
      "outputs": [],
      "source": [
        "import os\n",
        "try:\n",
        "  # create your folder here\n",
        "  # os.makedirs(name='')\n",
        "except Exception as e:\n",
        "  print(e)\n"
      ]
    }
  ],
  "metadata": {
    "accelerator": "GPU",
    "colab": {
      "name": "Data Practitioner Jupyter Notebook.ipynb",
      "provenance": [],
      "toc_visible": true
    },
    "kernelspec": {
      "display_name": ".venv",
      "language": "python",
      "name": "python3"
    },
    "language_info": {
      "codemirror_mode": {
        "name": "ipython",
        "version": 3
      },
      "file_extension": ".py",
      "mimetype": "text/x-python",
      "name": "python",
      "nbconvert_exporter": "python",
      "pygments_lexer": "ipython3",
      "version": "3.12.8"
    },
    "orig_nbformat": 2
  },
  "nbformat": 4,
  "nbformat_minor": 2
}
