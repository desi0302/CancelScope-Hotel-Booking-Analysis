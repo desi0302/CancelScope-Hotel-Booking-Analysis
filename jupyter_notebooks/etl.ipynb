{
 "cells": [
  {
   "cell_type": "markdown",
   "metadata": {
    "id": "0aStgWSO0E0E"
   },
   "source": [
    "# **Extract, Transform, Load**"
   ]
  },
  {
   "cell_type": "markdown",
   "metadata": {
    "id": "1eLEkw5O0ECa"
   },
   "source": [
    "## Objectives\n",
    "\n",
    "* Fetch data from Kaggle and save as raw data\n",
    "* Clean and transform data\n",
    "* Engineer features for modelling\n",
    "* Validate and document etl process\n",
    "\n",
    "## Inputs\n",
    "\n",
    "* data/raw/hotel_bookings.csv\n",
    "\n",
    "## Outputs\n",
    "\n",
    "* hotel_bookings_clean.csv\n",
    "* hotel_bookings_sample.csv\n",
    "\n",
    "## Additional Comments\n",
    "\n",
    "* If you have any additional comments that don't fit in the previous bullets, please state them here. \n",
    "\n"
   ]
  },
  {
   "cell_type": "markdown",
   "metadata": {
    "id": "9uWZXH9LwoQg"
   },
   "source": [
    "---"
   ]
  },
  {
   "cell_type": "markdown",
   "metadata": {
    "id": "cqP-UeN-z3i2"
   },
   "source": [
    "# Change working directory"
   ]
  },
  {
   "cell_type": "markdown",
   "metadata": {},
   "source": [
    "* We are assuming you will store the notebooks in a subfolder, therefore when running the notebook in the editor, you will need to change the working directory"
   ]
  },
  {
   "cell_type": "markdown",
   "metadata": {
    "id": "aOGIGS-uz3i2"
   },
   "source": [
    "We need to change the working directory from its current folder to its parent folder\n",
    "* We access the current directory with os.getcwd()"
   ]
  },
  {
   "cell_type": "code",
   "execution_count": 1,
   "metadata": {
    "id": "wZfF_j-Bz3i4",
    "outputId": "66943449-1436-4c3d-85c7-b85f9f78349b"
   },
   "outputs": [
    {
     "data": {
      "text/plain": [
       "'d:\\\\vscode-projects\\\\CancelScope-Hotel-Booking-Analysis\\\\jupyter_notebooks'"
      ]
     },
     "execution_count": 1,
     "metadata": {},
     "output_type": "execute_result"
    }
   ],
   "source": [
    "import os\n",
    "current_dir = os.getcwd()\n",
    "current_dir"
   ]
  },
  {
   "cell_type": "markdown",
   "metadata": {
    "id": "9MWW8E7lz3i7"
   },
   "source": [
    "We want to make the parent of the current directory the new current directory\n",
    "* os.path.dirname() gets the parent directory\n",
    "* os.chir() defines the new current directory"
   ]
  },
  {
   "cell_type": "code",
   "execution_count": 2,
   "metadata": {
    "id": "TwHsQRWjz3i9",
    "outputId": "86849db3-cd2f-4cc5-ebb8-2d0caafa1a2c"
   },
   "outputs": [
    {
     "name": "stdout",
     "output_type": "stream",
     "text": [
      "You set a new current directory\n"
     ]
    }
   ],
   "source": [
    "os.chdir(os.path.dirname(current_dir))\n",
    "print(\"You set a new current directory\")"
   ]
  },
  {
   "cell_type": "markdown",
   "metadata": {
    "id": "M_xPk_Ijz3i-"
   },
   "source": [
    "Confirm the new current directory"
   ]
  },
  {
   "cell_type": "code",
   "execution_count": 3,
   "metadata": {
    "id": "vz3S-_kjz3jA",
    "outputId": "00b79ae4-75d0-4a96-d193-ac9ef9847ea2"
   },
   "outputs": [
    {
     "data": {
      "text/plain": [
       "'d:\\\\vscode-projects\\\\CancelScope-Hotel-Booking-Analysis'"
      ]
     },
     "execution_count": 3,
     "metadata": {},
     "output_type": "execute_result"
    }
   ],
   "source": [
    "current_dir = os.getcwd()\n",
    "current_dir"
   ]
  },
  {
   "cell_type": "markdown",
   "metadata": {
    "id": "-mavJ8DibrcQ"
   },
   "source": [
    "# Data understanding, cleaning, preprocessing"
   ]
  },
  {
   "cell_type": "markdown",
   "metadata": {},
   "source": [
    "Importing neccessary libraries"
   ]
  },
  {
   "cell_type": "code",
   "execution_count": 4,
   "metadata": {},
   "outputs": [],
   "source": [
    "import numpy as np\n",
    "import pandas as pd\n",
    "import matplotlib.pyplot as plt"
   ]
  },
  {
   "cell_type": "markdown",
   "metadata": {},
   "source": [
    "Read and extract dataset"
   ]
  },
  {
   "cell_type": "code",
   "execution_count": 5,
   "metadata": {},
   "outputs": [],
   "source": [
    "df = pd.read_csv(\"data/raw/hotel_bookings.csv\")"
   ]
  },
  {
   "cell_type": "code",
   "execution_count": 6,
   "metadata": {},
   "outputs": [],
   "source": [
    "def review_dataframe(df):\n",
    "    \"\"\"\n",
    "    Prints a summary of the dataframe including shape, duplicate count,\n",
    "    and for each column: type, missing count, unique count, and sample values.\n",
    "    \"\"\"\n",
    "    print(f\"shape: {df.shape}\") # (rows, columns)\n",
    "    print(f\"duplicates: {df.duplicated().sum()}\\n\") # count of duplicate rows\n",
    "\n",
    "    print(f\"{'column':<30} {'type':<12} {'missing':<8} {'unique':<8} {'sample values'}\")\n",
    "    print(\"\\n\")\n",
    "    for col in df.columns:\n",
    "        dtype = df[col].dtype\n",
    "        missing = df[col].isnull().sum()\n",
    "        unique_count = df[col].nunique(dropna=True)\n",
    "        sample_values = df[col].dropna().unique()[:5]\n",
    "        print(f\"{col:<30} {str(dtype):<12} {missing:<8} {unique_count:<8} {sample_values}\")"
   ]
  },
  {
   "cell_type": "markdown",
   "metadata": {},
   "source": [
    "Visualise columns and statistics in a read friendly format"
   ]
  },
  {
   "cell_type": "code",
   "execution_count": 7,
   "metadata": {},
   "outputs": [
    {
     "name": "stdout",
     "output_type": "stream",
     "text": [
      "shape: (119390, 32)\n",
      "duplicates: 31994\n",
      "\n",
      "column                         type         missing  unique   sample values\n",
      "\n",
      "\n",
      "hotel                          object       0        2        ['Resort Hotel' 'City Hotel']\n",
      "is_canceled                    int64        0        2        [0 1]\n",
      "lead_time                      int64        0        479      [342 737   7  13  14]\n",
      "arrival_date_year              int64        0        3        [2015 2016 2017]\n",
      "arrival_date_month             object       0        12       ['July' 'August' 'September' 'October' 'November']\n",
      "arrival_date_week_number       int64        0        53       [27 28 29 30 31]\n",
      "arrival_date_day_of_month      int64        0        31       [1 2 3 4 5]\n",
      "stays_in_weekend_nights        int64        0        17       [0 1 2 4 3]\n",
      "stays_in_week_nights           int64        0        35       [0 1 2 3 4]\n",
      "adults                         int64        0        14       [ 2  1  3  4 40]\n",
      "children                       float64      4        5        [ 0.  1.  2. 10.  3.]\n",
      "babies                         int64        0        5        [ 0  1  2 10  9]\n",
      "meal                           object       0        5        ['BB' 'FB' 'HB' 'SC' 'Undefined']\n",
      "country                        object       488      177      ['PRT' 'GBR' 'USA' 'ESP' 'IRL']\n",
      "market_segment                 object       0        8        ['Direct' 'Corporate' 'Online TA' 'Offline TA/TO' 'Complementary']\n",
      "distribution_channel           object       0        5        ['Direct' 'Corporate' 'TA/TO' 'Undefined' 'GDS']\n",
      "is_repeated_guest              int64        0        2        [0 1]\n",
      "previous_cancellations         int64        0        15       [ 0  1  2  3 26]\n",
      "previous_bookings_not_canceled int64        0        73       [0 1 2 3 4]\n",
      "reserved_room_type             object       0        10       ['C' 'A' 'D' 'E' 'G']\n",
      "assigned_room_type             object       0        12       ['C' 'A' 'D' 'E' 'G']\n",
      "booking_changes                int64        0        21       [3 4 0 1 2]\n",
      "deposit_type                   object       0        3        ['No Deposit' 'Refundable' 'Non Refund']\n",
      "agent                          float64      16340    333      [304. 240. 303.  15. 241.]\n",
      "company                        float64      112593   352      [110. 113. 270. 178. 240.]\n",
      "days_in_waiting_list           int64        0        128      [  0  50  47  65 122]\n",
      "customer_type                  object       0        4        ['Transient' 'Contract' 'Transient-Party' 'Group']\n",
      "adr                            float64      0        8879     [  0.  75.  98. 107. 103.]\n",
      "required_car_parking_spaces    int64        0        5        [0 1 2 8 3]\n",
      "total_of_special_requests      int64        0        6        [0 1 3 2 4]\n",
      "reservation_status             object       0        3        ['Check-Out' 'Canceled' 'No-Show']\n",
      "reservation_status_date        object       0        926      ['2015-07-01' '2015-07-02' '2015-07-03' '2015-05-06' '2015-04-22']\n"
     ]
    }
   ],
   "source": [
    "review_dataframe(df)"
   ]
  },
  {
   "cell_type": "code",
   "execution_count": 8,
   "metadata": {},
   "outputs": [
    {
     "data": {
      "text/plain": [
       "(86940, 32)"
      ]
     },
     "execution_count": 8,
     "metadata": {},
     "output_type": "execute_result"
    }
   ],
   "source": [
    "df = df.drop_duplicates() #remove duplicate rows\n",
    "df = df.dropna(subset=['children', 'country',]) #remove rows with missing values in children and country columns\n",
    "df.shape"
   ]
  },
  {
   "cell_type": "markdown",
   "metadata": {},
   "source": [
    "Columns to drop:\n",
    "- meal - meal type can often be changed after arrival at the hotel \n",
    "- booking_changes - booking changes directly correspond with group booking\n",
    "- agent - mostly IDs or missing values, and does not provide meaningful predictive information for cancellations\n",
    "- company - again, mostly IDs or missing values, and is not useful for modeling cancellations\n",
    "- adr - average revenue earned per day per occupied room,measures pricing and revenue performance, not needed for the current analysis\n",
    "- required_car_parking_spaces - high correspondance to group visits, could misslead analysis\n",
    "- total_of_special_requests - high correspondance to group visits, could misslead analysis\n",
    "- reservation_status - describes a final state of reservation, already captured in is_canceled\n",
    "- reservation_status_date - records the date when the reservation status was set,it is only known after the booking outcome so it cannot be used for predicting cancellations at the time of booking\n",
    "- arrival_date_week_number - redundant with arrival_date_month and arrival_date_day_of_month, and does not add predictive value for cancellations"
   ]
  },
  {
   "cell_type": "code",
   "execution_count": 9,
   "metadata": {},
   "outputs": [
    {
     "data": {
      "text/plain": [
       "(86940, 22)"
      ]
     },
     "execution_count": 9,
     "metadata": {},
     "output_type": "execute_result"
    }
   ],
   "source": [
    "df = df.drop([\n",
    "    'meal',\n",
    "    'agent',\n",
    "    'booking_changes',\n",
    "    'company',\n",
    "    'adr',\n",
    "    'required_car_parking_spaces',\n",
    "    'total_of_special_requests',\n",
    "    'reservation_status',\n",
    "    'reservation_status_date',\n",
    "    'arrival_date_week_number'\n",
    "], axis=1)\n",
    "df.shape\n"
   ]
  },
  {
   "cell_type": "code",
   "execution_count": 10,
   "metadata": {},
   "outputs": [
    {
     "name": "stdout",
     "output_type": "stream",
     "text": [
      "assigned/reserved mismatch: 609\n"
     ]
    }
   ],
   "source": [
    "cancelled_diff_room_type = df[\n",
    "    (df['is_canceled'] == 1) & \n",
    "    (df['assigned_room_type'] != df['reserved_room_type'])\n",
    "]\n",
    "count = cancelled_diff_room_type.shape[0]\n",
    "print(f\"assigned/reserved mismatch: {count}\")"
   ]
  },
  {
   "cell_type": "code",
   "execution_count": 11,
   "metadata": {},
   "outputs": [
    {
     "name": "stdout",
     "output_type": "stream",
     "text": [
      "mismatched and canceled: 609\n",
      "% of total canceled bookings that had a mismatch: 2.54%\n"
     ]
    }
   ],
   "source": [
    "mismatch_canceled = df[(df['is_canceled'] == 1) & (df['reserved_room_type'] != df['assigned_room_type'])].shape[0]\n",
    "percent_canceled_mismatch = mismatch_canceled / df['is_canceled'].sum() * 100\n",
    "\n",
    "print(f\"mismatched and canceled: {mismatch_canceled}\")\n",
    "print(f\"% of total canceled bookings that had a mismatch: {percent_canceled_mismatch:.2f}%\")\n"
   ]
  },
  {
   "cell_type": "code",
   "execution_count": 12,
   "metadata": {},
   "outputs": [],
   "source": [
    "df = df.drop(['assigned_room_type', 'reserved_room_type'], axis=1)\n"
   ]
  },
  {
   "cell_type": "markdown",
   "metadata": {},
   "source": [
    " reserved_room_type and assigned_room_type were dropped because asigned_room_type is only recorded after check-in so it is not relevant for analysis of pre -arrival data and could introduce inconsistencies. Reserved_room_type provides limited insight for the current analysis and may be redundant with other booking information. Removing both columns simplifies the dataset and ensures only relevant & reliable features are retained for downstream processing. Also, room types are just indicative and do not describe the real room type. Further analysis for that which room is prefered or not cannot be done due to the lack of information."
   ]
  },
  {
   "cell_type": "markdown",
   "metadata": {},
   "source": [
    "# New Features"
   ]
  },
  {
   "cell_type": "code",
   "execution_count": 13,
   "metadata": {},
   "outputs": [
    {
     "name": "stdout",
     "output_type": "stream",
     "text": [
      "793\n",
      "0   2015-07-01\n",
      "1   2015-07-01\n",
      "2   2015-07-01\n",
      "3   2015-07-01\n",
      "4   2015-07-01\n",
      "Name: arrival_date, dtype: datetime64[ns]\n"
     ]
    }
   ],
   "source": [
    "import calendar\n",
    "\n",
    "# Create a mapping from month name to month number\n",
    "month_map = {month: str(index).zfill(2) for index, month in enumerate(calendar.month_name) if month}\n",
    "\n",
    "df['arrival_date'] = pd.to_datetime(\n",
    "    df['arrival_date_day_of_month'].astype(str).str.zfill(2) + '-' +\n",
    "    df['arrival_date_month'].map(month_map) + '-' +\n",
    "    df['arrival_date_year'].astype(str),\n",
    "    format='%d-%m-%Y',\n",
    "    dayfirst=True\n",
    ")\n",
    "\n",
    "print(df['arrival_date'].nunique()) # verify number of unique values in the column\n",
    "print(df['arrival_date'].head()) # display first 5"
   ]
  },
  {
   "cell_type": "code",
   "execution_count": 14,
   "metadata": {},
   "outputs": [],
   "source": [
    "df = df.drop(['arrival_date_day_of_month', 'arrival_date_month', 'arrival_date_year'], axis=1) # drop the original columns"
   ]
  },
  {
   "cell_type": "code",
   "execution_count": 15,
   "metadata": {},
   "outputs": [
    {
     "name": "stdout",
     "output_type": "stream",
     "text": [
      "shape: (86940, 18)\n",
      "duplicates: 6064\n",
      "\n",
      "column                         type         missing  unique   sample values\n",
      "\n",
      "\n",
      "hotel                          object       0        2        ['Resort Hotel' 'City Hotel']\n",
      "is_canceled                    int64        0        2        [0 1]\n",
      "lead_time                      int64        0        479      [342 737   7  13  14]\n",
      "stays_in_weekend_nights        int64        0        15       [0 1 2 4 3]\n",
      "stays_in_week_nights           int64        0        33       [0 1 2 3 4]\n",
      "adults                         int64        0        14       [ 2  1  3  4 40]\n",
      "children                       float64      0        5        [ 0.  1.  2. 10.  3.]\n",
      "babies                         int64        0        5        [ 0  1  2 10  9]\n",
      "country                        object       0        177      ['PRT' 'GBR' 'USA' 'ESP' 'IRL']\n",
      "market_segment                 object       0        7        ['Direct' 'Corporate' 'Online TA' 'Offline TA/TO' 'Complementary']\n",
      "distribution_channel           object       0        5        ['Direct' 'Corporate' 'TA/TO' 'Undefined' 'GDS']\n",
      "is_repeated_guest              int64        0        2        [0 1]\n",
      "previous_cancellations         int64        0        15       [ 0  1  2  3 26]\n",
      "previous_bookings_not_canceled int64        0        73       [0 1 2 3 5]\n",
      "deposit_type                   object       0        3        ['No Deposit' 'Refundable' 'Non Refund']\n",
      "days_in_waiting_list           int64        0        128      [  0  50  47  65 122]\n",
      "customer_type                  object       0        4        ['Transient' 'Contract' 'Transient-Party' 'Group']\n",
      "arrival_date                   datetime64[ns] 0        793      <DatetimeArray>\n",
      "['2015-07-01 00:00:00', '2015-07-02 00:00:00', '2015-07-03 00:00:00',\n",
      " '2015-07-04 00:00:00', '2015-07-05 00:00:00']\n",
      "Length: 5, dtype: datetime64[ns]\n"
     ]
    }
   ],
   "source": [
    "review_dataframe(df)"
   ]
  },
  {
   "cell_type": "markdown",
   "metadata": {},
   "source": [
    "Change types"
   ]
  },
  {
   "cell_type": "code",
   "execution_count": 16,
   "metadata": {},
   "outputs": [],
   "source": [
    "df['children'] = df['children'].astype(int)\n",
    "df['is_canceled'] = df['is_canceled'].astype(bool)\n",
    "df['is_repeated_guest'] = df['is_repeated_guest'].astype(bool)\n"
   ]
  },
  {
   "cell_type": "markdown",
   "metadata": {},
   "source": [
    "new columns:\n",
    "- total_stay: a single numeric feature  is easier to analyze and model than two separate columns. Total length of stay often correlates with cancellation behaviourand is useful for EDA and models.\n",
    "- is_family - vallue will be true for bookings with more than one adult and at least one child or baby and false otherwise. Family bookings may have different cancellation patterns and preferences.\n",
    "- cancellation_ratio: represents the proportion of previous bookings that were canceled.The small value 1e-6 is added to the denominator to avoid division by zero. The column will clarify what fraction of the bookings that a gues made were canceled. For guests with no previous bookings at all (both fields zero), this ratio is zero.If there are many first-time guests with no booking history, then this feature will be zero for them which is logical."
   ]
  },
  {
   "cell_type": "code",
   "execution_count": 17,
   "metadata": {
    "vscode": {
     "languageId": "ruby"
    }
   },
   "outputs": [],
   "source": [
    "df['total_stay'] = df['stays_in_weekend_nights'] + df['stays_in_week_nights']\n",
    "df['is_family'] = ((df['adults'] >= 1) & ((df['children'] >= 1) | (df['babies'] >= 1)) & (df['customer_type'] != 'Group'))\n",
    "df['cancellation_ratio'] = df['previous_cancellations'] / (df['previous_cancellations'] + df['previous_bookings_not_canceled'] + 1e-6)\n",
    "df['total_guests'] = df['adults'] + df['children'] + df['babies']\n",
    "df['is_international'] = df['country'] != 'prt' "
   ]
  },
  {
   "cell_type": "markdown",
   "metadata": {},
   "source": [
    "- is_international - this column will be very usefull as it will capture the different cacelation rate between domestic and international guests. I keep the countries column as it will be used in the dashboard to visualise map"
   ]
  },
  {
   "cell_type": "code",
   "execution_count": 18,
   "metadata": {},
   "outputs": [
    {
     "data": {
      "text/plain": [
       "(86940, 21)"
      ]
     },
     "execution_count": 18,
     "metadata": {},
     "output_type": "execute_result"
    }
   ],
   "source": [
    "df = df.drop(['previous_cancellations', 'previous_bookings_not_canceled'], axis=1)\n",
    "df.shape"
   ]
  },
  {
   "cell_type": "markdown",
   "metadata": {},
   "source": [
    "I decide to analyse deeper if 0 values of the stay_length correspond to canceled reservations, which would be a realistic scenario.\n",
    "My hypotheseis is that if a reservation is NOT canceled (is_canceled=False) the stay in the hotel must be at least 1 night (stay_length >=1)"
   ]
  },
  {
   "cell_type": "code",
   "execution_count": 19,
   "metadata": {},
   "outputs": [
    {
     "name": "stdout",
     "output_type": "stream",
     "text": [
      "Rows where reservation was not canceled and stay length is zero: 617\n"
     ]
    }
   ],
   "source": [
    "not_canceled_zero_stay = df[(df['is_canceled'] == False) & (df['total_stay'] == 0)]\n",
    "print(f\"Rows where reservation was not canceled and stay length is zero: {not_canceled_zero_stay.shape[0]}\")\n"
   ]
  },
  {
   "cell_type": "markdown",
   "metadata": {},
   "source": [
    "The above check shows lack of llogic in a real-world hotel data. A non-canceled reservation should have at least one night. For that reason I decide to remove the 617 rows with not canceled reservations but zero stay length, as they represent some kind of data error."
   ]
  },
  {
   "cell_type": "code",
   "execution_count": 20,
   "metadata": {},
   "outputs": [
    {
     "data": {
      "text/plain": [
       "(86323, 21)"
      ]
     },
     "execution_count": 20,
     "metadata": {},
     "output_type": "execute_result"
    }
   ],
   "source": [
    "df = df[~((df['is_canceled'] == False) & (df['total_stay'] == 0))]\n",
    "df.shape"
   ]
  },
  {
   "cell_type": "code",
   "execution_count": 21,
   "metadata": {},
   "outputs": [
    {
     "name": "stdout",
     "output_type": "stream",
     "text": [
      "shape: (86323, 21)\n",
      "duplicates: 6183\n",
      "\n",
      "column                         type         missing  unique   sample values\n",
      "\n",
      "\n",
      "hotel                          object       0        2        ['Resort Hotel' 'City Hotel']\n",
      "is_canceled                    bool         0        2        [False  True]\n",
      "lead_time                      int64        0        478      [ 7 13 14  0  9]\n",
      "stays_in_weekend_nights        int64        0        15       [0 1 2 4 3]\n",
      "stays_in_week_nights           int64        0        33       [1 2 3 4 5]\n",
      "adults                         int64        0        14       [ 1  2  3  4 40]\n",
      "children                       int32        0        5        [ 0  1  2 10  3]\n",
      "babies                         int64        0        5        [ 0  1  2 10  9]\n",
      "country                        object       0        177      ['GBR' 'PRT' 'USA' 'ESP' 'IRL']\n",
      "market_segment                 object       0        7        ['Direct' 'Corporate' 'Online TA' 'Offline TA/TO' 'Complementary']\n",
      "distribution_channel           object       0        5        ['Direct' 'Corporate' 'TA/TO' 'Undefined' 'GDS']\n",
      "is_repeated_guest              bool         0        2        [False  True]\n",
      "deposit_type                   object       0        3        ['No Deposit' 'Refundable' 'Non Refund']\n",
      "days_in_waiting_list           int64        0        128      [  0  50  47  65 122]\n",
      "customer_type                  object       0        4        ['Transient' 'Contract' 'Transient-Party' 'Group']\n",
      "arrival_date                   datetime64[ns] 0        793      <DatetimeArray>\n",
      "['2015-07-01 00:00:00', '2015-07-02 00:00:00', '2015-07-03 00:00:00',\n",
      " '2015-07-04 00:00:00', '2015-07-05 00:00:00']\n",
      "Length: 5, dtype: datetime64[ns]\n",
      "total_stay                     int64        0        43       [1 2 3 4 5]\n",
      "is_family                      bool         0        2        [False  True]\n",
      "cancellation_ratio             float64      0        171      [0.         0.49999975 0.33333322 0.24999994 0.19999996]\n",
      "total_guests                   int64        0        15       [1 2 3 4 5]\n",
      "is_international               bool         0        1        [ True]\n"
     ]
    }
   ],
   "source": [
    "review_dataframe(df)"
   ]
  },
  {
   "cell_type": "code",
   "execution_count": 22,
   "metadata": {},
   "outputs": [
    {
     "data": {
      "text/plain": [
       "(80140, 21)"
      ]
     },
     "execution_count": 22,
     "metadata": {},
     "output_type": "execute_result"
    }
   ],
   "source": [
    "df = df.drop_duplicates()\n",
    "df.shape"
   ]
  },
  {
   "cell_type": "code",
   "execution_count": 23,
   "metadata": {
    "vscode": {
     "languageId": "javascript"
    }
   },
   "outputs": [],
   "source": [
    "df = df.rename(columns={\n",
    "    'stays_in_weekend_nights': 'weekend_nights',\n",
    "    'stays_in_week_nights': 'week_nights',\n",
    "    'days_in_waiting_list': 'days_waiting'\n",
    "})\n"
   ]
  },
  {
   "cell_type": "code",
   "execution_count": 24,
   "metadata": {},
   "outputs": [],
   "source": [
    "def clean_string_columns(df):\n",
    "    \"\"\"\n",
    "    Cleans string columns in the given DataFrame by converting all text to lowercase\n",
    "    and replacing '-', '!', '/', and spaces with underscores. Only columns with\n",
    "    object (string) dtype are processed.\n",
    "\n",
    "    Parameters\n",
    "    ----------\n",
    "    df : pandas.DataFrame\n",
    "        The input DataFrame whose string columns will be cleaned.\n",
    "\n",
    "    Returns\n",
    "    -------\n",
    "    pandas.DataFrame\n",
    "        The DataFrame with cleaned string columns.\n",
    "    \"\"\"\n",
    "    # Only apply to object (string) columns\n",
    "    for col in df.select_dtypes(include='object').columns:\n",
    "        df[col] = df[col].str.lower().str.replace(r'[-!/ ]', '_', regex=True)\n",
    "    return df\n",
    "\n",
    "df = clean_string_columns(df)"
   ]
  },
  {
   "cell_type": "code",
   "execution_count": 25,
   "metadata": {},
   "outputs": [
    {
     "name": "stdout",
     "output_type": "stream",
     "text": [
      "shape: (80140, 21)\n",
      "duplicates: 0\n",
      "\n",
      "column                         type         missing  unique   sample values\n",
      "\n",
      "\n",
      "hotel                          object       0        2        ['resort_hotel' 'city_hotel']\n",
      "is_canceled                    bool         0        2        [False  True]\n",
      "lead_time                      int64        0        478      [ 7 13 14  0  9]\n",
      "weekend_nights                 int64        0        15       [0 1 2 4 3]\n",
      "week_nights                    int64        0        33       [1 2 3 4 5]\n",
      "adults                         int64        0        14       [ 1  2  3  4 40]\n",
      "children                       int32        0        5        [ 0  1  2 10  3]\n",
      "babies                         int64        0        5        [ 0  1  2 10  9]\n",
      "country                        object       0        177      ['gbr' 'prt' 'usa' 'esp' 'irl']\n",
      "market_segment                 object       0        7        ['direct' 'corporate' 'online_ta' 'offline_ta_to' 'complementary']\n",
      "distribution_channel           object       0        5        ['direct' 'corporate' 'ta_to' 'undefined' 'gds']\n",
      "is_repeated_guest              bool         0        2        [False  True]\n",
      "deposit_type                   object       0        3        ['no_deposit' 'refundable' 'non_refund']\n",
      "days_waiting                   int64        0        128      [  0  50  47  65 122]\n",
      "customer_type                  object       0        4        ['transient' 'contract' 'transient_party' 'group']\n",
      "arrival_date                   datetime64[ns] 0        793      <DatetimeArray>\n",
      "['2015-07-01 00:00:00', '2015-07-02 00:00:00', '2015-07-03 00:00:00',\n",
      " '2015-07-04 00:00:00', '2015-07-05 00:00:00']\n",
      "Length: 5, dtype: datetime64[ns]\n",
      "total_stay                     int64        0        43       [1 2 3 4 5]\n",
      "is_family                      bool         0        2        [False  True]\n",
      "cancellation_ratio             float64      0        171      [0.         0.49999975 0.33333322 0.24999994 0.19999996]\n",
      "total_guests                   int64        0        15       [1 2 3 4 5]\n",
      "is_international               bool         0        1        [ True]\n"
     ]
    }
   ],
   "source": [
    "review_dataframe(df)"
   ]
  },
  {
   "cell_type": "markdown",
   "metadata": {},
   "source": [
    "# Check and Handle Outliars"
   ]
  },
  {
   "cell_type": "markdown",
   "metadata": {},
   "source": [
    "I expect that some of the outliars may be true values - large groups or long stays, so I will investigate them further"
   ]
  },
  {
   "cell_type": "code",
   "execution_count": 26,
   "metadata": {},
   "outputs": [
    {
     "data": {
      "image/png": "[encoded data removed]",
      "text/plain": [
       "<Figure size 1200x600 with 1 Axes>"
      ]
     },
     "metadata": {},
     "output_type": "display_data"
    }
   ],
   "source": [
    "numeric_cols = [\n",
    "\t'lead_time', 'weekend_nights', 'week_nights', 'adults', 'children', \n",
    "\t'babies', 'total_stay', 'days_waiting', 'total_guests', 'cancellation_ratio'\n",
    "]\n",
    "\n",
    "plt.figure(figsize=(12, 6))\n",
    "df[numeric_cols].boxplot()\n",
    "plt.title(\"Boxplot of Numeric Columns (Outlier Detection)\")\n",
    "plt.ylabel(\"Value\")\n",
    "plt.xticks(rotation=45)\n",
    "plt.show()"
   ]
  },
  {
   "cell_type": "code",
   "execution_count": 27,
   "metadata": {},
   "outputs": [
    {
     "name": "stdout",
     "output_type": "stream",
     "text": [
      "\n",
      "Top 5 outliers for 'lead_time':\n",
      "       lead_time\n",
      "4182         709\n",
      "65237        629\n",
      "65231        629\n",
      "60173        626\n",
      "65032        622\n",
      "\n",
      "Top 5 outliers for 'weekend_nights':\n",
      "        weekend_nights\n",
      "33924               16\n",
      "9839                16\n",
      "101794              16\n",
      "54704               14\n",
      "88017               14\n",
      "\n",
      "Top 5 outliers for 'week_nights':\n",
      "        week_nights\n",
      "101794           41\n",
      "33924            40\n",
      "9839             40\n",
      "88017            35\n",
      "54704            34\n",
      "\n",
      "Top 5 outliers for 'adults':\n",
      "      adults\n",
      "2173      55\n",
      "1643      50\n",
      "1539      40\n",
      "1962      27\n",
      "1917      27\n",
      "\n",
      "Top 5 outliers for 'children':\n",
      "        children\n",
      "328           10\n",
      "18746          3\n",
      "118200         3\n",
      "115891         3\n",
      "92415          3\n",
      "\n",
      "Top 5 outliers for 'babies':\n",
      "       babies\n",
      "46619      10\n",
      "78656       9\n",
      "7896        2\n",
      "39634       2\n",
      "6719        2\n",
      "\n",
      "Top 5 outliers for 'total_stay':\n",
      "        total_stay\n",
      "101794          57\n",
      "33924           56\n",
      "9839            56\n",
      "88017           49\n",
      "54704           48\n",
      "\n",
      "Top 5 outliers for 'days_waiting':\n",
      "       days_waiting\n",
      "59395           391\n",
      "59076           391\n",
      "58152           391\n",
      "56959           379\n",
      "56957           379\n",
      "\n",
      "Top 5 outliers for 'total_guests':\n",
      "      total_guests\n",
      "2173            55\n",
      "1643            50\n",
      "1539            40\n",
      "1917            27\n",
      "1962            27\n",
      "\n",
      "Top 5 outliers for 'cancellation_ratio':\n",
      "       cancellation_ratio\n",
      "14779                 1.0\n",
      "14829                 1.0\n",
      "14972                 1.0\n",
      "15150                 1.0\n",
      "73714                 1.0\n"
     ]
    }
   ],
   "source": [
    "numeric_cols = [\n",
    "    'lead_time', 'weekend_nights', 'week_nights', 'adults', 'children', \n",
    "    'babies', 'total_stay', 'days_waiting', 'total_guests', 'cancellation_ratio'\n",
    "]\n",
    "\n",
    "for col in numeric_cols:\n",
    "    q1 = df[col].quantile(0.25)\n",
    "    q3 = df[col].quantile(0.75)\n",
    "    iqr = q3 - q1\n",
    "    lower_bound = q1 - 1.5 * iqr\n",
    "    upper_bound = q3 + 1.5 * iqr\n",
    "    outliers = df[(df[col] < lower_bound) | (df[col] > upper_bound)]\n",
    "    print(f\"\\nTop 5 outliers for '{col}':\")\n",
    "    print(outliers[[col]].sort_values(by=col, ascending=False).head(5))"
   ]
  },
  {
   "cell_type": "markdown",
   "metadata": {},
   "source": [
    "Below are the rows in the dataset where the number of adults is greater than or equal to 40. Such values may indicate group bookings or potential data entry errors and should be reviewed for validity."
   ]
  },
  {
   "cell_type": "code",
   "execution_count": 28,
   "metadata": {},
   "outputs": [
    {
     "data": {
      "text/html": [
       "<div>\n",
       "<style scoped>\n",
       "    .dataframe tbody tr th:only-of-type {\n",
       "        vertical-align: middle;\n",
       "    }\n",
       "\n",
       "    .dataframe tbody tr th {\n",
       "        vertical-align: top;\n",
       "    }\n",
       "\n",
       "    .dataframe thead th {\n",
       "        text-align: right;\n",
       "    }\n",
       "</style>\n",
       "<table border=\"1\" class=\"dataframe\">\n",
       "  <thead>\n",
       "    <tr style=\"text-align: right;\">\n",
       "      <th></th>\n",
       "      <th>hotel</th>\n",
       "      <th>is_canceled</th>\n",
       "      <th>lead_time</th>\n",
       "      <th>weekend_nights</th>\n",
       "      <th>week_nights</th>\n",
       "      <th>adults</th>\n",
       "      <th>children</th>\n",
       "      <th>babies</th>\n",
       "      <th>country</th>\n",
       "      <th>market_segment</th>\n",
       "      <th>...</th>\n",
       "      <th>is_repeated_guest</th>\n",
       "      <th>deposit_type</th>\n",
       "      <th>days_waiting</th>\n",
       "      <th>customer_type</th>\n",
       "      <th>arrival_date</th>\n",
       "      <th>total_stay</th>\n",
       "      <th>is_family</th>\n",
       "      <th>cancellation_ratio</th>\n",
       "      <th>total_guests</th>\n",
       "      <th>is_international</th>\n",
       "    </tr>\n",
       "  </thead>\n",
       "  <tbody>\n",
       "    <tr>\n",
       "      <th>1539</th>\n",
       "      <td>resort_hotel</td>\n",
       "      <td>True</td>\n",
       "      <td>304</td>\n",
       "      <td>0</td>\n",
       "      <td>3</td>\n",
       "      <td>40</td>\n",
       "      <td>0</td>\n",
       "      <td>0</td>\n",
       "      <td>prt</td>\n",
       "      <td>direct</td>\n",
       "      <td>...</td>\n",
       "      <td>False</td>\n",
       "      <td>no_deposit</td>\n",
       "      <td>0</td>\n",
       "      <td>group</td>\n",
       "      <td>2015-09-03</td>\n",
       "      <td>3</td>\n",
       "      <td>False</td>\n",
       "      <td>0.0</td>\n",
       "      <td>40</td>\n",
       "      <td>True</td>\n",
       "    </tr>\n",
       "    <tr>\n",
       "      <th>1643</th>\n",
       "      <td>resort_hotel</td>\n",
       "      <td>True</td>\n",
       "      <td>336</td>\n",
       "      <td>1</td>\n",
       "      <td>2</td>\n",
       "      <td>50</td>\n",
       "      <td>0</td>\n",
       "      <td>0</td>\n",
       "      <td>prt</td>\n",
       "      <td>direct</td>\n",
       "      <td>...</td>\n",
       "      <td>False</td>\n",
       "      <td>no_deposit</td>\n",
       "      <td>0</td>\n",
       "      <td>group</td>\n",
       "      <td>2015-09-07</td>\n",
       "      <td>3</td>\n",
       "      <td>False</td>\n",
       "      <td>0.0</td>\n",
       "      <td>50</td>\n",
       "      <td>True</td>\n",
       "    </tr>\n",
       "    <tr>\n",
       "      <th>2173</th>\n",
       "      <td>resort_hotel</td>\n",
       "      <td>True</td>\n",
       "      <td>338</td>\n",
       "      <td>2</td>\n",
       "      <td>0</td>\n",
       "      <td>55</td>\n",
       "      <td>0</td>\n",
       "      <td>0</td>\n",
       "      <td>prt</td>\n",
       "      <td>direct</td>\n",
       "      <td>...</td>\n",
       "      <td>False</td>\n",
       "      <td>no_deposit</td>\n",
       "      <td>0</td>\n",
       "      <td>group</td>\n",
       "      <td>2015-10-04</td>\n",
       "      <td>2</td>\n",
       "      <td>False</td>\n",
       "      <td>0.0</td>\n",
       "      <td>55</td>\n",
       "      <td>True</td>\n",
       "    </tr>\n",
       "  </tbody>\n",
       "</table>\n",
       "<p>3 rows × 21 columns</p>\n",
       "</div>"
      ],
      "text/plain": [
       "             hotel  is_canceled  lead_time  weekend_nights  week_nights  \\\n",
       "1539  resort_hotel         True        304               0            3   \n",
       "1643  resort_hotel         True        336               1            2   \n",
       "2173  resort_hotel         True        338               2            0   \n",
       "\n",
       "      adults  children  babies country market_segment  ... is_repeated_guest  \\\n",
       "1539      40         0       0     prt         direct  ...             False   \n",
       "1643      50         0       0     prt         direct  ...             False   \n",
       "2173      55         0       0     prt         direct  ...             False   \n",
       "\n",
       "      deposit_type days_waiting  customer_type arrival_date total_stay  \\\n",
       "1539    no_deposit            0          group   2015-09-03          3   \n",
       "1643    no_deposit            0          group   2015-09-07          3   \n",
       "2173    no_deposit            0          group   2015-10-04          2   \n",
       "\n",
       "      is_family  cancellation_ratio  total_guests  is_international  \n",
       "1539      False                 0.0            40              True  \n",
       "1643      False                 0.0            50              True  \n",
       "2173      False                 0.0            55              True  \n",
       "\n",
       "[3 rows x 21 columns]"
      ]
     },
     "execution_count": 28,
     "metadata": {},
     "output_type": "execute_result"
    }
   ],
   "source": [
    "df[df['adults'] >= 40]"
   ]
  },
  {
   "cell_type": "markdown",
   "metadata": {},
   "source": [
    "Observation - top 3 outliars are actualy Group bookings, so I consider them valid data"
   ]
  },
  {
   "cell_type": "code",
   "execution_count": 29,
   "metadata": {},
   "outputs": [
    {
     "data": {
      "text/html": [
       "<div>\n",
       "<style scoped>\n",
       "    .dataframe tbody tr th:only-of-type {\n",
       "        vertical-align: middle;\n",
       "    }\n",
       "\n",
       "    .dataframe tbody tr th {\n",
       "        vertical-align: top;\n",
       "    }\n",
       "\n",
       "    .dataframe thead th {\n",
       "        text-align: right;\n",
       "    }\n",
       "</style>\n",
       "<table border=\"1\" class=\"dataframe\">\n",
       "  <thead>\n",
       "    <tr style=\"text-align: right;\">\n",
       "      <th></th>\n",
       "      <th>hotel</th>\n",
       "      <th>is_canceled</th>\n",
       "      <th>lead_time</th>\n",
       "      <th>weekend_nights</th>\n",
       "      <th>week_nights</th>\n",
       "      <th>adults</th>\n",
       "      <th>children</th>\n",
       "      <th>babies</th>\n",
       "      <th>country</th>\n",
       "      <th>market_segment</th>\n",
       "      <th>...</th>\n",
       "      <th>is_repeated_guest</th>\n",
       "      <th>deposit_type</th>\n",
       "      <th>days_waiting</th>\n",
       "      <th>customer_type</th>\n",
       "      <th>arrival_date</th>\n",
       "      <th>total_stay</th>\n",
       "      <th>is_family</th>\n",
       "      <th>cancellation_ratio</th>\n",
       "      <th>total_guests</th>\n",
       "      <th>is_international</th>\n",
       "    </tr>\n",
       "  </thead>\n",
       "  <tbody>\n",
       "    <tr>\n",
       "      <th>328</th>\n",
       "      <td>resort_hotel</td>\n",
       "      <td>True</td>\n",
       "      <td>55</td>\n",
       "      <td>4</td>\n",
       "      <td>10</td>\n",
       "      <td>2</td>\n",
       "      <td>10</td>\n",
       "      <td>0</td>\n",
       "      <td>prt</td>\n",
       "      <td>offline_ta_to</td>\n",
       "      <td>...</td>\n",
       "      <td>False</td>\n",
       "      <td>no_deposit</td>\n",
       "      <td>0</td>\n",
       "      <td>contract</td>\n",
       "      <td>2015-07-12</td>\n",
       "      <td>14</td>\n",
       "      <td>True</td>\n",
       "      <td>0.0</td>\n",
       "      <td>12</td>\n",
       "      <td>True</td>\n",
       "    </tr>\n",
       "  </tbody>\n",
       "</table>\n",
       "<p>1 rows × 21 columns</p>\n",
       "</div>"
      ],
      "text/plain": [
       "            hotel  is_canceled  lead_time  weekend_nights  week_nights  \\\n",
       "328  resort_hotel         True         55               4           10   \n",
       "\n",
       "     adults  children  babies country market_segment  ... is_repeated_guest  \\\n",
       "328       2        10       0     prt  offline_ta_to  ...             False   \n",
       "\n",
       "     deposit_type days_waiting  customer_type arrival_date total_stay  \\\n",
       "328    no_deposit            0       contract   2015-07-12         14   \n",
       "\n",
       "     is_family  cancellation_ratio  total_guests  is_international  \n",
       "328       True                 0.0            12              True  \n",
       "\n",
       "[1 rows x 21 columns]"
      ]
     },
     "execution_count": 29,
     "metadata": {},
     "output_type": "execute_result"
    }
   ],
   "source": [
    "df[df['children'] == 10]"
   ]
  },
  {
   "cell_type": "markdown",
   "metadata": {},
   "source": [
    "Observation: The combination (2 adults + 10 children, contract booking long stay) strongly suggests a legitimate group booking -school trip, summer camp, tour group. I consider it a valid data."
   ]
  },
  {
   "cell_type": "code",
   "execution_count": 30,
   "metadata": {},
   "outputs": [
    {
     "data": {
      "text/html": [
       "<div>\n",
       "<style scoped>\n",
       "    .dataframe tbody tr th:only-of-type {\n",
       "        vertical-align: middle;\n",
       "    }\n",
       "\n",
       "    .dataframe tbody tr th {\n",
       "        vertical-align: top;\n",
       "    }\n",
       "\n",
       "    .dataframe thead th {\n",
       "        text-align: right;\n",
       "    }\n",
       "</style>\n",
       "<table border=\"1\" class=\"dataframe\">\n",
       "  <thead>\n",
       "    <tr style=\"text-align: right;\">\n",
       "      <th></th>\n",
       "      <th>hotel</th>\n",
       "      <th>is_canceled</th>\n",
       "      <th>lead_time</th>\n",
       "      <th>weekend_nights</th>\n",
       "      <th>week_nights</th>\n",
       "      <th>adults</th>\n",
       "      <th>children</th>\n",
       "      <th>babies</th>\n",
       "      <th>country</th>\n",
       "      <th>market_segment</th>\n",
       "      <th>...</th>\n",
       "      <th>is_repeated_guest</th>\n",
       "      <th>deposit_type</th>\n",
       "      <th>days_waiting</th>\n",
       "      <th>customer_type</th>\n",
       "      <th>arrival_date</th>\n",
       "      <th>total_stay</th>\n",
       "      <th>is_family</th>\n",
       "      <th>cancellation_ratio</th>\n",
       "      <th>total_guests</th>\n",
       "      <th>is_international</th>\n",
       "    </tr>\n",
       "  </thead>\n",
       "  <tbody>\n",
       "    <tr>\n",
       "      <th>4182</th>\n",
       "      <td>resort_hotel</td>\n",
       "      <td>False</td>\n",
       "      <td>709</td>\n",
       "      <td>8</td>\n",
       "      <td>20</td>\n",
       "      <td>2</td>\n",
       "      <td>0</td>\n",
       "      <td>0</td>\n",
       "      <td>gbr</td>\n",
       "      <td>direct</td>\n",
       "      <td>...</td>\n",
       "      <td>False</td>\n",
       "      <td>no_deposit</td>\n",
       "      <td>0</td>\n",
       "      <td>transient</td>\n",
       "      <td>2016-02-25</td>\n",
       "      <td>28</td>\n",
       "      <td>False</td>\n",
       "      <td>0.0</td>\n",
       "      <td>2</td>\n",
       "      <td>True</td>\n",
       "    </tr>\n",
       "  </tbody>\n",
       "</table>\n",
       "<p>1 rows × 21 columns</p>\n",
       "</div>"
      ],
      "text/plain": [
       "             hotel  is_canceled  lead_time  weekend_nights  week_nights  \\\n",
       "4182  resort_hotel        False        709               8           20   \n",
       "\n",
       "      adults  children  babies country market_segment  ... is_repeated_guest  \\\n",
       "4182       2         0       0     gbr         direct  ...             False   \n",
       "\n",
       "      deposit_type days_waiting  customer_type arrival_date total_stay  \\\n",
       "4182    no_deposit            0      transient   2016-02-25         28   \n",
       "\n",
       "      is_family  cancellation_ratio  total_guests  is_international  \n",
       "4182      False                 0.0             2              True  \n",
       "\n",
       "[1 rows x 21 columns]"
      ]
     },
     "execution_count": 30,
     "metadata": {},
     "output_type": "execute_result"
    }
   ],
   "source": [
    "df[df['lead_time'] == 709]"
   ]
  },
  {
   "cell_type": "markdown",
   "metadata": {},
   "source": [
    "The maximum lead_time outlier should be kept in the dataset because it represents a plausible, though rare, real-world scenario: a booking made far in advance, possibly for a special event or personal reason. Additionally, the presence of this outlier does not indicate a data error, as the associated reservation details are consistent and realistic. Also, as there are more reservations made more that a year in advance, I consider this a hotel practice (alowing long lead time for bookings)"
   ]
  },
  {
   "cell_type": "markdown",
   "metadata": {},
   "source": [
    "I consider outliars valid data entries and will keep them for EDA phase. For ML phase they will be ltransformed and encoded"
   ]
  },
  {
   "cell_type": "code",
   "execution_count": 31,
   "metadata": {},
   "outputs": [
    {
     "name": "stdout",
     "output_type": "stream",
     "text": [
      "shape: (80140, 21)\n",
      "duplicates: 0\n",
      "\n",
      "column                         type         missing  unique   sample values\n",
      "\n",
      "\n",
      "hotel                          object       0        2        ['resort_hotel' 'city_hotel']\n",
      "is_canceled                    bool         0        2        [False  True]\n",
      "lead_time                      int64        0        478      [ 7 13 14  0  9]\n",
      "weekend_nights                 int64        0        15       [0 1 2 4 3]\n",
      "week_nights                    int64        0        33       [1 2 3 4 5]\n",
      "adults                         int64        0        14       [ 1  2  3  4 40]\n",
      "children                       int32        0        5        [ 0  1  2 10  3]\n",
      "babies                         int64        0        5        [ 0  1  2 10  9]\n",
      "country                        object       0        177      ['gbr' 'prt' 'usa' 'esp' 'irl']\n",
      "market_segment                 object       0        7        ['direct' 'corporate' 'online_ta' 'offline_ta_to' 'complementary']\n",
      "distribution_channel           object       0        5        ['direct' 'corporate' 'ta_to' 'undefined' 'gds']\n",
      "is_repeated_guest              bool         0        2        [False  True]\n",
      "deposit_type                   object       0        3        ['no_deposit' 'refundable' 'non_refund']\n",
      "days_waiting                   int64        0        128      [  0  50  47  65 122]\n",
      "customer_type                  object       0        4        ['transient' 'contract' 'transient_party' 'group']\n",
      "arrival_date                   datetime64[ns] 0        793      <DatetimeArray>\n",
      "['2015-07-01 00:00:00', '2015-07-02 00:00:00', '2015-07-03 00:00:00',\n",
      " '2015-07-04 00:00:00', '2015-07-05 00:00:00']\n",
      "Length: 5, dtype: datetime64[ns]\n",
      "total_stay                     int64        0        43       [1 2 3 4 5]\n",
      "is_family                      bool         0        2        [False  True]\n",
      "cancellation_ratio             float64      0        171      [0.         0.49999975 0.33333322 0.24999994 0.19999996]\n",
      "total_guests                   int64        0        15       [1 2 3 4 5]\n",
      "is_international               bool         0        1        [ True]\n"
     ]
    }
   ],
   "source": [
    "review_dataframe(df)"
   ]
  },
  {
   "cell_type": "code",
   "execution_count": 32,
   "metadata": {},
   "outputs": [],
   "source": [
    "df.to_csv(\"data/clean/hotel_bookings_clean.csv\", index=False)"
   ]
  },
  {
   "cell_type": "code",
   "execution_count": 35,
   "metadata": {},
   "outputs": [
    {
     "data": {
      "image/png": "[encoded data removed]",
      "text/plain": [
       "<Figure size 2000x800 with 10 Axes>"
      ]
     },
     "metadata": {},
     "output_type": "display_data"
    }
   ],
   "source": [
    "int_bool_cols = [col for col in numeric_cols if df[col].dtype in ['int64', 'int32', 'bool']]\n",
    "fig, axes = plt.subplots(nrows=2, ncols=5, figsize=(20, 8))\n",
    "axes = axes.flatten()\n",
    "\n",
    "for i, col in enumerate(int_bool_cols):\n",
    "    axes[i].hist(df[col], bins=30, color='orange', edgecolor='black')\n",
    "    axes[i].set_title(f\"Distribution of '{col}'\")\n",
    "    axes[i].set_xlabel(col)\n",
    "    axes[i].set_ylabel(\"Frequency\")\n",
    "\n",
    "for j in range(len(int_bool_cols), len(axes)):\n",
    "    axes[j].set_visible(False)\n",
    "\n",
    "plt.tight_layout()\n",
    "plt.show()"
   ]
  },
  {
   "cell_type": "markdown",
   "metadata": {},
   "source": [
    "Features in the dataset display strong right-skewed distributions with the majority of values clustered at the lower end and a long tail of higher values, as seen in the plotted histograms. This skewness is typical in hotel booking data, where most reservations are short stays, few guests have many children or babies. Such skewed distributions can negatively impact statistical models and machine learning algorithms If a column has a very high proportion of zeros (for example >80%), log1p will not help much because the distribution will remain highly zero-inflated and the transformed values will cluster at zero.For columns with moderate or low zero proportion, log1p is effective for reducing skewness and compressing outliers.\n",
    "For the above reason, I will check first the proportions of the zero values for each column, then decide for which columns to apply the natural logarithm transformation using log1p, and respectively to consider creating binary flag for the others."
   ]
  },
  {
   "cell_type": "code",
   "execution_count": 36,
   "metadata": {},
   "outputs": [
    {
     "data": {
      "text/html": [
       "<div>\n",
       "<style scoped>\n",
       "    .dataframe tbody tr th:only-of-type {\n",
       "        vertical-align: middle;\n",
       "    }\n",
       "\n",
       "    .dataframe tbody tr th {\n",
       "        vertical-align: top;\n",
       "    }\n",
       "\n",
       "    .dataframe thead th {\n",
       "        text-align: right;\n",
       "    }\n",
       "</style>\n",
       "<table border=\"1\" class=\"dataframe\">\n",
       "  <thead>\n",
       "    <tr style=\"text-align: right;\">\n",
       "      <th></th>\n",
       "      <th>lead_time</th>\n",
       "      <th>weekend_nights</th>\n",
       "      <th>week_nights</th>\n",
       "      <th>adults</th>\n",
       "      <th>children</th>\n",
       "      <th>babies</th>\n",
       "      <th>total_stay</th>\n",
       "      <th>days_waiting</th>\n",
       "      <th>total_guests</th>\n",
       "      <th>cancellation_ratio</th>\n",
       "    </tr>\n",
       "  </thead>\n",
       "  <tbody>\n",
       "    <tr>\n",
       "      <th>count</th>\n",
       "      <td>80140.000000</td>\n",
       "      <td>80140.000000</td>\n",
       "      <td>80140.000000</td>\n",
       "      <td>80140.000000</td>\n",
       "      <td>80140.000000</td>\n",
       "      <td>80140.000000</td>\n",
       "      <td>80140.000000</td>\n",
       "      <td>80140.000000</td>\n",
       "      <td>80140.000000</td>\n",
       "      <td>80140.000000</td>\n",
       "    </tr>\n",
       "    <tr>\n",
       "      <th>mean</th>\n",
       "      <td>78.003032</td>\n",
       "      <td>1.021500</td>\n",
       "      <td>2.655540</td>\n",
       "      <td>1.889531</td>\n",
       "      <td>0.147130</td>\n",
       "      <td>0.011455</td>\n",
       "      <td>3.677040</td>\n",
       "      <td>0.564737</td>\n",
       "      <td>2.048116</td>\n",
       "      <td>0.013868</td>\n",
       "    </tr>\n",
       "    <tr>\n",
       "      <th>std</th>\n",
       "      <td>83.611666</td>\n",
       "      <td>1.030984</td>\n",
       "      <td>2.046174</td>\n",
       "      <td>0.633810</td>\n",
       "      <td>0.469036</td>\n",
       "      <td>0.117025</td>\n",
       "      <td>2.749877</td>\n",
       "      <td>8.493791</td>\n",
       "      <td>0.806072</td>\n",
       "      <td>0.112229</td>\n",
       "    </tr>\n",
       "    <tr>\n",
       "      <th>min</th>\n",
       "      <td>0.000000</td>\n",
       "      <td>0.000000</td>\n",
       "      <td>0.000000</td>\n",
       "      <td>0.000000</td>\n",
       "      <td>0.000000</td>\n",
       "      <td>0.000000</td>\n",
       "      <td>0.000000</td>\n",
       "      <td>0.000000</td>\n",
       "      <td>0.000000</td>\n",
       "      <td>0.000000</td>\n",
       "    </tr>\n",
       "    <tr>\n",
       "      <th>25%</th>\n",
       "      <td>12.000000</td>\n",
       "      <td>0.000000</td>\n",
       "      <td>1.000000</td>\n",
       "      <td>2.000000</td>\n",
       "      <td>0.000000</td>\n",
       "      <td>0.000000</td>\n",
       "      <td>2.000000</td>\n",
       "      <td>0.000000</td>\n",
       "      <td>2.000000</td>\n",
       "      <td>0.000000</td>\n",
       "    </tr>\n",
       "    <tr>\n",
       "      <th>50%</th>\n",
       "      <td>48.000000</td>\n",
       "      <td>1.000000</td>\n",
       "      <td>2.000000</td>\n",
       "      <td>2.000000</td>\n",
       "      <td>0.000000</td>\n",
       "      <td>0.000000</td>\n",
       "      <td>3.000000</td>\n",
       "      <td>0.000000</td>\n",
       "      <td>2.000000</td>\n",
       "      <td>0.000000</td>\n",
       "    </tr>\n",
       "    <tr>\n",
       "      <th>75%</th>\n",
       "      <td>122.000000</td>\n",
       "      <td>2.000000</td>\n",
       "      <td>4.000000</td>\n",
       "      <td>2.000000</td>\n",
       "      <td>0.000000</td>\n",
       "      <td>0.000000</td>\n",
       "      <td>5.000000</td>\n",
       "      <td>0.000000</td>\n",
       "      <td>2.000000</td>\n",
       "      <td>0.000000</td>\n",
       "    </tr>\n",
       "    <tr>\n",
       "      <th>90%</th>\n",
       "      <td>198.100000</td>\n",
       "      <td>2.000000</td>\n",
       "      <td>5.000000</td>\n",
       "      <td>2.000000</td>\n",
       "      <td>1.000000</td>\n",
       "      <td>0.000000</td>\n",
       "      <td>7.000000</td>\n",
       "      <td>0.000000</td>\n",
       "      <td>3.000000</td>\n",
       "      <td>0.000000</td>\n",
       "    </tr>\n",
       "    <tr>\n",
       "      <th>95%</th>\n",
       "      <td>248.000000</td>\n",
       "      <td>2.000000</td>\n",
       "      <td>6.000000</td>\n",
       "      <td>3.000000</td>\n",
       "      <td>1.000000</td>\n",
       "      <td>0.000000</td>\n",
       "      <td>8.000000</td>\n",
       "      <td>0.000000</td>\n",
       "      <td>3.000000</td>\n",
       "      <td>0.000000</td>\n",
       "    </tr>\n",
       "    <tr>\n",
       "      <th>max</th>\n",
       "      <td>709.000000</td>\n",
       "      <td>16.000000</td>\n",
       "      <td>41.000000</td>\n",
       "      <td>55.000000</td>\n",
       "      <td>10.000000</td>\n",
       "      <td>10.000000</td>\n",
       "      <td>57.000000</td>\n",
       "      <td>391.000000</td>\n",
       "      <td>55.000000</td>\n",
       "      <td>1.000000</td>\n",
       "    </tr>\n",
       "  </tbody>\n",
       "</table>\n",
       "</div>"
      ],
      "text/plain": [
       "          lead_time  weekend_nights   week_nights        adults      children  \\\n",
       "count  80140.000000    80140.000000  80140.000000  80140.000000  80140.000000   \n",
       "mean      78.003032        1.021500      2.655540      1.889531      0.147130   \n",
       "std       83.611666        1.030984      2.046174      0.633810      0.469036   \n",
       "min        0.000000        0.000000      0.000000      0.000000      0.000000   \n",
       "25%       12.000000        0.000000      1.000000      2.000000      0.000000   \n",
       "50%       48.000000        1.000000      2.000000      2.000000      0.000000   \n",
       "75%      122.000000        2.000000      4.000000      2.000000      0.000000   \n",
       "90%      198.100000        2.000000      5.000000      2.000000      1.000000   \n",
       "95%      248.000000        2.000000      6.000000      3.000000      1.000000   \n",
       "max      709.000000       16.000000     41.000000     55.000000     10.000000   \n",
       "\n",
       "             babies    total_stay  days_waiting  total_guests  \\\n",
       "count  80140.000000  80140.000000  80140.000000  80140.000000   \n",
       "mean       0.011455      3.677040      0.564737      2.048116   \n",
       "std        0.117025      2.749877      8.493791      0.806072   \n",
       "min        0.000000      0.000000      0.000000      0.000000   \n",
       "25%        0.000000      2.000000      0.000000      2.000000   \n",
       "50%        0.000000      3.000000      0.000000      2.000000   \n",
       "75%        0.000000      5.000000      0.000000      2.000000   \n",
       "90%        0.000000      7.000000      0.000000      3.000000   \n",
       "95%        0.000000      8.000000      0.000000      3.000000   \n",
       "max       10.000000     57.000000    391.000000     55.000000   \n",
       "\n",
       "       cancellation_ratio  \n",
       "count        80140.000000  \n",
       "mean             0.013868  \n",
       "std              0.112229  \n",
       "min              0.000000  \n",
       "25%              0.000000  \n",
       "50%              0.000000  \n",
       "75%              0.000000  \n",
       "90%              0.000000  \n",
       "95%              0.000000  \n",
       "max              1.000000  "
      ]
     },
     "execution_count": 36,
     "metadata": {},
     "output_type": "execute_result"
    }
   ],
   "source": [
    "# Summary statistics for numeric columns\n",
    "numeric_cols = [\n",
    "    'lead_time', 'weekend_nights', 'week_nights', 'adults', 'children', \n",
    "    'babies', 'total_stay', 'days_waiting', 'total_guests', 'cancellation_ratio'\n",
    "]\n",
    "\n",
    "df[numeric_cols].describe(percentiles=[.25, .5, .75, .9, .95])"
   ]
  },
  {
   "cell_type": "markdown",
   "metadata": {},
   "source": [
    "# Labeling"
   ]
  },
  {
   "cell_type": "markdown",
   "metadata": {},
   "source": [
    "During the ETL process categorical columns are labeled with human-readable values using predefined mappings. This improves dataset readability, ensures consistency and simplifies downstream analysis, reporting, and visualization."
   ]
  },
  {
   "cell_type": "code",
   "execution_count": null,
   "metadata": {},
   "outputs": [],
   "source": [
    "#This will create a new column country_label with readable country names.\n",
    "# Mapping country codes to full country names\n",
    "country_map = {\n",
    "    'gbr': 'United Kingdom', 'prt': 'Portugal', 'usa': 'United States', 'esp': 'Spain', 'irl': 'Ireland',\n",
    "    'fra': 'France', 'rou': 'Romania', 'nor': 'Norway', 'omn': 'Oman', 'arg': 'Argentina',\n",
    "    'pol': 'Poland', 'deu': 'Germany', 'bel': 'Belgium', 'che': 'Switzerland', 'cn': 'China',\n",
    "    'grc': 'Greece', 'ita': 'Italy', 'nld': 'Netherlands', 'dnk': 'Denmark', 'rus': 'Russia',\n",
    "    'swe': 'Sweden', 'aus': 'Australia', 'est': 'Estonia', 'cze': 'Czech Republic', 'bra': 'Brazil',\n",
    "    'fin': 'Finland', 'moz': 'Mozambique', 'bwa': 'Botswana', 'lux': 'Luxembourg', 'svn': 'Slovenia',\n",
    "    'alb': 'Albania', 'ind': 'India', 'chn': 'China', 'mex': 'Mexico', 'mar': 'Morocco',\n",
    "    'ukr': 'Ukraine', 'smr': 'San Marino', 'lva': 'Latvia', 'pri': 'Puerto Rico', 'srb': 'Serbia',\n",
    "    'chl': 'Chile', 'aut': 'Austria', 'blr': 'Belarus', 'ltu': 'Lithuania', 'tur': 'Turkey',\n",
    "    'zaf': 'South Africa', 'ago': 'Angola', 'isr': 'Israel', 'cym': 'Cayman Islands', 'zmb': 'Zambia',\n",
    "    'cpv': 'Cape Verde', 'zwe': 'Zimbabwe', 'dza': 'Algeria', 'kor': 'South Korea', 'cri': 'Costa Rica',\n",
    "    'hun': 'Hungary', 'are': 'United Arab Emirates', 'tun': 'Tunisia', 'jam': 'Jamaica', 'hrv': 'Croatia',\n",
    "    'hkg': 'Hong Kong', 'irn': 'Iran', 'geo': 'Georgia', 'and': 'Andorra', 'gib': 'Gibraltar',\n",
    "    'ury': 'Uruguay', 'jey': 'Jersey', 'caf': 'Central African Republic', 'cyp': 'Cyprus', 'col': 'Colombia',\n",
    "    'ggy': 'Guernsey', 'kwt': 'Kuwait', 'nga': 'Nigeria', 'mdv': 'Maldives', 'ven': 'Venezuela',\n",
    "    'svk': 'Slovakia', 'fji': 'Fiji', 'kaz': 'Kazakhstan', 'pak': 'Pakistan', 'idn': 'Indonesia',\n",
    "    'lbn': 'Lebanon', 'phl': 'Philippines', 'sen': 'Senegal', 'syc': 'Seychelles', 'aze': 'Azerbaijan',\n",
    "    'bhr': 'Bahrain', 'nzl': 'New Zealand', 'tha': 'Thailand', 'dom': 'Dominican Republic', 'mkd': 'North Macedonia',\n",
    "    'mys': 'Malaysia', 'arm': 'Armenia', 'jpn': 'Japan', 'lka': 'Sri Lanka', 'cub': 'Cuba',\n",
    "    'cmr': 'Cameroon', 'bih': 'Bosnia and Herzegovina', 'mus': 'Mauritius', 'com': 'Comoros', 'sur': 'Suriname',\n",
    "    'uga': 'Uganda', 'bgr': 'Bulgaria', 'civ': \"Côte d'Ivoire\", 'jor': 'Jordan', 'syr': 'Syria',\n",
    "    'sgp': 'Singapore', 'bdi': 'Burundi', 'sau': 'Saudi Arabia', 'vnm': 'Vietnam', 'plw': 'Palau',\n",
    "    'egy': 'Egypt', 'per': 'Peru', 'mlt': 'Malta', 'mwi': 'Malawi', 'ecu': 'Ecuador',\n",
    "    'mdg': 'Madagascar', 'isl': 'Iceland', 'uzb': 'Uzbekistan', 'npl': 'Nepal', 'bhs': 'Bahamas',\n",
    "    'mac': 'Macau', 'tgo': 'Togo', 'twn': 'Taiwan', 'dji': 'Djibouti', 'stp': 'São Tomé and Príncipe',\n",
    "    'kna': 'Saint Kitts and Nevis', 'eth': 'Ethiopia', 'irq': 'Iraq', 'hnd': 'Honduras', 'rwa': 'Rwanda',\n",
    "    'qat': 'Qatar', 'khm': 'Cambodia', 'mco': 'Monaco', 'bgd': 'Bangladesh', 'imn': 'Isle of Man',\n",
    "    'tjk': 'Tajikistan', 'nic': 'Nicaragua', 'ben': 'Benin', 'vgb': 'British Virgin Islands', 'tza': 'Tanzania',\n",
    "    'gab': 'Gabon', 'gha': 'Ghana', 'tmp': 'Timor-Leste', 'glp': 'Guadeloupe', 'ken': 'Kenya',\n",
    "    'lie': 'Liechtenstein', 'gnb': 'Guinea-Bissau', 'mne': 'Montenegro', 'umi': 'U.S. Minor Outlying Islands',\n",
    "    'myt': 'Mayotte', 'fro': 'Faroe Islands', 'mmr': 'Myanmar', 'pan': 'Panama', 'bfa': 'Burkina Faso',\n",
    "    'lby': 'Libya', 'mli': 'Mali', 'nam': 'Namibia', 'bol': 'Bolivia', 'pry': 'Paraguay',\n",
    "    'brb': 'Barbados', 'abw': 'Aruba', 'aia': 'Anguilla', 'slv': 'El Salvador', 'dma': 'Dominica',\n",
    "    'pyf': 'French Polynesia', 'guy': 'Guyana', 'lca': 'Saint Lucia', 'ata': 'Antarctica',\n",
    "    'gtm': 'Guatemala', 'asm': 'American Samoa', 'mrt': 'Mauritania', 'ncl': 'New Caledonia', 'kir': 'Kiribati',\n",
    "    'sdn': 'Sudan', 'atf': 'French Southern Territories', 'sle': 'Sierra Leone', 'lao': 'Laos'\n",
    "}\n",
    "\n",
    "df['country_label'] = df['country'].map(country_map).fillna(df['country'])"
   ]
  },
  {
   "cell_type": "code",
   "execution_count": null,
   "metadata": {},
   "outputs": [],
   "source": [
    "# Create readable labels for distribution_channel, customer_type\n",
    "# Create a readable label for market_segment values\n",
    "segment_labels = {\n",
    "    'direct': 'Direct Booking',\n",
    "    'corporate': 'Corporate Client',\n",
    "    'online_ta': 'Online Travel Agency',\n",
    "    'offline_ta_to': 'Offline Travel Agent/Tour Operator',\n",
    "    'complementary': 'Complimentary Stay',\n",
    "    'groups': 'Group Booking'\n",
    "}\n",
    "df['market_segment_label'] = df['market_segment'].map(segment_labels).fillna(df['market_segment'])\n",
    "\n",
    "\n",
    "distribution_channel_labels = {\n",
    "    'direct': 'Direct Booking',\n",
    "    'corporate': 'Corporate Channel',\n",
    "    'ta_to': 'Travel Agent/Tour Operator',\n",
    "    'undefined': 'Undefined Channel',\n",
    "    'gds': 'Global Distribution System'\n",
    "}\n",
    "df['distribution_channel_label'] = df['distribution_channel'].map(distribution_channel_labels).fillna(df['distribution_channel'])\n",
    "\n",
    "customer_type_labels = {\n",
    "    'transient': 'Transient Guest',\n",
    "    'contract': 'Contract Client',\n",
    "    'transient_party': 'Transient Party',\n",
    "    'group': 'Group Booking'\n",
    "}\n",
    "df['customer_type_label'] = df['customer_type'].map(customer_type_labels).fillna(df['customer_type'])"
   ]
  },
  {
   "cell_type": "code",
   "execution_count": 37,
   "metadata": {},
   "outputs": [
    {
     "name": "stdout",
     "output_type": "stream",
     "text": [
      "shape: (80140, 21)\n",
      "duplicates: 0\n",
      "\n",
      "column                         type         missing  unique   sample values\n",
      "\n",
      "\n",
      "hotel                          object       0        2        ['resort_hotel' 'city_hotel']\n",
      "is_canceled                    bool         0        2        [False  True]\n",
      "lead_time                      int64        0        478      [ 7 13 14  0  9]\n",
      "weekend_nights                 int64        0        15       [0 1 2 4 3]\n",
      "week_nights                    int64        0        33       [1 2 3 4 5]\n",
      "adults                         int64        0        14       [ 1  2  3  4 40]\n",
      "children                       int32        0        5        [ 0  1  2 10  3]\n",
      "babies                         int64        0        5        [ 0  1  2 10  9]\n",
      "country                        object       0        177      ['gbr' 'prt' 'usa' 'esp' 'irl']\n",
      "market_segment                 object       0        7        ['direct' 'corporate' 'online_ta' 'offline_ta_to' 'complementary']\n",
      "distribution_channel           object       0        5        ['direct' 'corporate' 'ta_to' 'undefined' 'gds']\n",
      "is_repeated_guest              bool         0        2        [False  True]\n",
      "deposit_type                   object       0        3        ['no_deposit' 'refundable' 'non_refund']\n",
      "days_waiting                   int64        0        128      [  0  50  47  65 122]\n",
      "customer_type                  object       0        4        ['transient' 'contract' 'transient_party' 'group']\n",
      "arrival_date                   datetime64[ns] 0        793      <DatetimeArray>\n",
      "['2015-07-01 00:00:00', '2015-07-02 00:00:00', '2015-07-03 00:00:00',\n",
      " '2015-07-04 00:00:00', '2015-07-05 00:00:00']\n",
      "Length: 5, dtype: datetime64[ns]\n",
      "total_stay                     int64        0        43       [1 2 3 4 5]\n",
      "is_family                      bool         0        2        [False  True]\n",
      "cancellation_ratio             float64      0        171      [0.         0.49999975 0.33333322 0.24999994 0.19999996]\n",
      "total_guests                   int64        0        15       [1 2 3 4 5]\n",
      "is_international               bool         0        1        [ True]\n"
     ]
    }
   ],
   "source": [
    "review_dataframe(df)"
   ]
  },
  {
   "cell_type": "markdown",
   "metadata": {},
   "source": [
    "NOTE"
   ]
  },
  {
   "cell_type": "markdown",
   "metadata": {},
   "source": [
    "* You may add as many sections as you want, as long as it supports your project workflow.\n",
    "* All notebook's cells should be run top-down (you can't create a dynamic wherein a given point you need to go back to a previous cell to execute some task, like go back to a previous cell and refresh a variable content)"
   ]
  },
  {
   "cell_type": "code",
   "execution_count": null,
   "metadata": {},
   "outputs": [],
   "source": []
  },
  {
   "cell_type": "markdown",
   "metadata": {},
   "source": [
    "---"
   ]
  },
  {
   "cell_type": "markdown",
   "metadata": {
    "id": "ltNetd085qHf"
   },
   "source": [
    "# Push files to Repo"
   ]
  },
  {
   "cell_type": "markdown",
   "metadata": {},
   "source": [
    "* In cases where you don't need to push files to Repo, you may replace this section with \"Conclusions and Next Steps\" and state your conclusions and next steps."
   ]
  },
  {
   "cell_type": "code",
   "execution_count": null,
   "metadata": {
    "id": "aKlnIozA4eQO",
    "outputId": "fd09bc1f-adb1-4511-f6ce-492a6af570c0"
   },
   "outputs": [],
   "source": [
    "import os\n",
    "try:\n",
    "  # create your folder here\n",
    "  # os.makedirs(name='')\n",
    "except Exception as e:\n",
    "  print(e)\n"
   ]
  }
 ],
 "metadata": {
  "accelerator": "GPU",
  "colab": {
   "name": "Data Practitioner Jupyter Notebook.ipynb",
   "provenance": [],
   "toc_visible": true
  },
  "kernelspec": {
   "display_name": ".venv",
   "language": "python",
   "name": "python3"
  },
  "language_info": {
   "codemirror_mode": {
    "name": "ipython",
    "version": 3
   },
   "file_extension": ".py",
   "mimetype": "text/x-python",
   "name": "python",
   "nbconvert_exporter": "python",
   "pygments_lexer": "ipython3",
   "version": "3.12.8"
  },
  "orig_nbformat": 2
 },
 "nbformat": 4,
 "nbformat_minor": 2
}
