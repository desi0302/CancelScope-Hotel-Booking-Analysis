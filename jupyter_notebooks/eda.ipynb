{
  "cells": [
    {
      "cell_type": "markdown",
      "metadata": {},
      "source": [
        "# Core statistical concepts\n",
        "Core Statistical Concepts in Data Analysis\n",
        "1. Mean\n",
        "The mean (or average) is the sum of all data points divided by the number of points. It provides a central value for the dataset and is widely used for comparison and summarization. \n",
        "- mean = (x1 + x2 + ... + xn) / n\n",
        "- mean in python/pandas: df['col'].mean()\n",
        "​\n",
        "2. Median\n",
        "The median is the middle value in an ordered dataset. It is less affected by outliers than the mean, making it useful for skewed distributions.\n",
        "\n",
        "Definition and formula:\n",
        "- If n is odd: $m = x_{(n+1)/2}$\n",
        "- If n is even: $m = \\frac{x_{n/2} + x_{n/2 + 1}}{2}$\n",
        "\n",
        "Example:\n",
        "- For the ordered list [2, 3, 5], n=3 (odd) → median = 3\n",
        "- For the ordered list [2, 3, 5, 8], n=4 (even) → median = (3 + 5) / 2 = 4\n",
        "\n",
        "- median in python/pandas: df['col'].median()\n",
        "\n",
        "3. Standard Deviation\n",
        "Standard deviation measures the dispersion or spread of data points around the mean. A low standard deviation indicates that data points are close to the mean, while a high standard deviation indicates greater variability.\n",
        "\n",
        "Formula:\n",
        "(\\sigma = \\sqrt{\\frac{1}{n} \\sum{i=1}^{n} (xi - \\mu)^2})\n",
        "\n",
        "4. Hypothesis Testing\n",
        "Hypothesis testing is a statistical method used to make decisions or inferences about population parameters based on sample data. It involves formulating a null hypothesis ((H0)), collecting data, and using statistical tests (e.g., t-test, chi-square test) to determine whether to reject (H0).\n",
        "\n",
        "5. Basic Probability\n",
        "Probability quantifies the likelihood of an event occurring. It ranges from 0 (impossible) to 1 (certain). Probability theory underpins all statistical inference and helps in making predictions under uncertainty.\n",
        "\n",
        "Why These Concepts Matter\n",
        "These principles are foundational to data analysis because they:\n",
        "\n",
        "Provide ways to summarize and understand data (mean, median, standard deviation)\n",
        "Allow for rigorous comparison and prediction (probability)\n",
        "Enable evidence-based conclusions and decision-making (hypothesis testing)\n",
        "Mastering these concepts is essential for extracting meaningful insights from data and conducting robust analyses."
      ]
    },
    {
      "cell_type": "markdown",
      "metadata": {
        "id": "9uWZXH9LwoQg"
      },
      "source": [
        "---"
      ]
    },
    {
      "cell_type": "markdown",
      "metadata": {
        "id": "cqP-UeN-z3i2"
      },
      "source": [
        "# Change working directory"
      ]
    },
    {
      "cell_type": "markdown",
      "metadata": {},
      "source": [
        "* We are assuming you will store the notebooks in a subfolder, therefore when running the notebook in the editor, you will need to change the working directory"
      ]
    },
    {
      "cell_type": "markdown",
      "metadata": {
        "id": "aOGIGS-uz3i2"
      },
      "source": [
        "We need to change the working directory from its current folder to its parent folder\n",
        "* We access the current directory with os.getcwd()"
      ]
    },
    {
      "cell_type": "code",
      "execution_count": 1,
      "metadata": {
        "id": "wZfF_j-Bz3i4",
        "outputId": "66943449-1436-4c3d-85c7-b85f9f78349b"
      },
      "outputs": [
        {
          "data": {
            "text/plain": [
              "'d:\\\\vscode-projects\\\\CancelScope-Hotel-Booking-Analysis\\\\jupyter_notebooks'"
            ]
          },
          "execution_count": 1,
          "metadata": {},
          "output_type": "execute_result"
        }
      ],
      "source": [
        "import os\n",
        "current_dir = os.getcwd()\n",
        "current_dir"
      ]
    },
    {
      "cell_type": "markdown",
      "metadata": {
        "id": "9MWW8E7lz3i7"
      },
      "source": [
        "We want to make the parent of the current directory the new current directory\n",
        "* os.path.dirname() gets the parent directory\n",
        "* os.chir() defines the new current directory"
      ]
    },
    {
      "cell_type": "code",
      "execution_count": 2,
      "metadata": {
        "id": "TwHsQRWjz3i9",
        "outputId": "86849db3-cd2f-4cc5-ebb8-2d0caafa1a2c"
      },
      "outputs": [
        {
          "name": "stdout",
          "output_type": "stream",
          "text": [
            "You set a new current directory\n"
          ]
        }
      ],
      "source": [
        "os.chdir(os.path.dirname(current_dir))\n",
        "print(\"You set a new current directory\")"
      ]
    },
    {
      "cell_type": "markdown",
      "metadata": {
        "id": "M_xPk_Ijz3i-"
      },
      "source": [
        "Confirm the new current directory"
      ]
    },
    {
      "cell_type": "code",
      "execution_count": 3,
      "metadata": {
        "id": "vz3S-_kjz3jA",
        "outputId": "00b79ae4-75d0-4a96-d193-ac9ef9847ea2"
      },
      "outputs": [
        {
          "data": {
            "text/plain": [
              "'d:\\\\vscode-projects\\\\CancelScope-Hotel-Booking-Analysis'"
            ]
          },
          "execution_count": 3,
          "metadata": {},
          "output_type": "execute_result"
        }
      ],
      "source": [
        "current_dir = os.getcwd()\n",
        "current_dir"
      ]
    },
    {
      "cell_type": "markdown",
      "metadata": {
        "id": "-mavJ8DibrcQ"
      },
      "source": [
        "# Data overview and statistics\n"
      ]
    },
    {
      "cell_type": "markdown",
      "metadata": {},
      "source": [
        "Import neccessary libraries"
      ]
    },
    {
      "cell_type": "code",
      "execution_count": 4,
      "metadata": {},
      "outputs": [],
      "source": [
        "import numpy as np\n",
        "import pandas as pd\n",
        "import matplotlib.pyplot as plt"
      ]
    },
    {
      "cell_type": "markdown",
      "metadata": {},
      "source": [
        "Read the cleaned file"
      ]
    },
    {
      "cell_type": "code",
      "execution_count": 5,
      "metadata": {},
      "outputs": [],
      "source": [
        "df = pd.read_csv(os.path.join(current_dir, \"data\", \"clean\", \"hotel_bookings_clean.csv\"))"
      ]
    },
    {
      "cell_type": "markdown",
      "metadata": {
        "id": "ZY3l0-AxO93d"
      },
      "source": [
        "---"
      ]
    },
    {
      "cell_type": "markdown",
      "metadata": {},
      "source": [
        "# Core statistical concepts\n",
        "Core Statistical Concepts in Data Analysis\n",
        "1. Mean\n",
        "The mean (or average) is the sum of all data points divided by the number of points. It provides a central value for the dataset and is widely used for comparison and summarization. \n",
        "- mean = (x1 + x2 + ... + xn) / n\n",
        "- mean in python/pandas is calculated using mean() function\n",
        "​\n",
        "2. Median\n",
        "The median is the middle value in an ordered dataset. If the number of observations is even, it is the average of the two middle values. The median is less affected by outliers than the mean, making it useful for skewed distributions.\n",
        "- If the number of observations is odd, the median is the middle value.\n",
        "- If the number of observations is even, the median is the average of the two middle values.\n",
        "- The median is less affected by outliers than the mean, making it useful for skewed distributions.\n",
        "- In Pandas it is calculated using .median() function\n",
        "\n",
        "3. Standard Deviation\n",
        "Standard deviation measures the dispersion or spread of data points around the mean. A low standard deviation indicates that data points are close to the mean, while a high standard deviation indicates greater variability.\n",
        "- A low standard deviation means the data points are close to the mean.\n",
        "- A high standard deviation means the data points are more spread out.\n",
        "- In pandas the standard deviation is calculated using the .std() function. By default, it computes the sample standard deviation (uses n - 1 in the denominator).\n",
        "\n",
        "4. Hypothesis Testing\n",
        "Hypothesis testing is a statistical method used to make decisions or inferences about population parameters based on sample data.\n",
        "Steps Involved:\n",
        "- Formulate the hypotheses:\n",
        "- Null hypothesis (H₀): The default assumption (e.g., no effect, no difference).\n",
        "- Alternative hypothesis (H₁ or Ha): What you want to test for.\n",
        "- Collect sample data.\n",
        "- Perform a statistical test (e.g., t-test, chi-square test, ANOVA).\n",
        "- Decide whether to reject H₀ based on the test statistic and p-value.\n",
        "Key Point:\n",
        "- Rejecting H₀ suggests evidence for the alternative hypothesis, while failing to reject H₀ indicates insufficient evidence.\n",
        "\n",
        "5. Basic Probability\n",
        "Probability quantifies the likelihood of an event occurring.\n",
        "- Ranges from 0 (impossible) to 1 (certain).\n",
        "- Probability theory is the foundation of statistical inference and helps in making predictions under uncertainty.\n",
        "- Formula (for a simple event) is: number of favorable outcomes / total number of possible outcomes\n",
        "\n",
        "Why These Concepts Matter\n",
        "These principles are foundational to data analysis because they:\n",
        "- Summarize and describe data: Mean, median, and standard deviation help understand the distribution and spread.\n",
        "- Support comparison and prediction: Probability allows for quantifying uncertainty and making predictions.\n",
        "- Enable evidence-based decisions: Hypothesis testing helps draw conclusions backed by data.\n",
        "\n",
        "Bottom line:\n",
        "Mastering these concepts is essential for extracting meaningful insights and performing robust data analyses."
      ]
    },
    {
      "cell_type": "markdown",
      "metadata": {},
      "source": [
        "Exploratory data analysis"
      ]
    },
    {
      "cell_type": "code",
      "execution_count": 8,
      "metadata": {},
      "outputs": [
        {
          "data": {
            "image/png": "[encoded data removed]",
            "text/plain": [
              "<Figure size 1200x500 with 2 Axes>"
            ]
          },
          "metadata": {},
          "output_type": "display_data"
        }
      ],
      "source": [
        "# Plot cancellation distribution and cancellations per hotel on one figure with percentage labels\n",
        "fig, axes = plt.subplots(1, 2, figsize=(12, 5))\n",
        "\n",
        "# Left plot: Overall cancellation distribution\n",
        "cancel_counts = df['is_canceled'].value_counts()\n",
        "bars = axes[0].bar([0, 1], cancel_counts, color=['skyblue', 'salmon'])\n",
        "axes[0].set_xlabel('Is Canceled')\n",
        "axes[0].set_ylabel('Number of Bookings')\n",
        "axes[0].set_title('Booking Cancellation Distribution')\n",
        "axes[0].set_xticks([0, 1])\n",
        "axes[0].set_xticklabels(['Not Canceled', 'Canceled'], rotation=0)\n",
        "\n",
        "# Add percentage labels on top of bars\n",
        "total = cancel_counts.sum()\n",
        "for bar, count in zip(bars, cancel_counts):\n",
        "    percent = f\"{count/total:.1%}\"\n",
        "    axes[0].text(bar.get_x() + bar.get_width()/2, bar.get_height(), percent, ha='center', va='bottom', fontsize=10)\n",
        "\n",
        "# Right plot: Cancellations per hotel type\n",
        "hotel_cancel = df.groupby(['hotel', 'is_canceled']).size().unstack(fill_value=0)\n",
        "bars2 = hotel_cancel.plot(kind='bar', stacked=False, color=['skyblue', 'salmon'], ax=axes[1])\n",
        "axes[1].set_xlabel('Hotel Type')\n",
        "axes[1].set_ylabel('Number of Bookings')\n",
        "axes[1].set_title('Cancellations by Hotel Type')\n",
        "axes[1].set_xticklabels(hotel_cancel.index, rotation=0)\n",
        "\n",
        "# Add percentage labels on top of bars for each hotel type\n",
        "for i, hotel in enumerate(hotel_cancel.index):\n",
        "    total_hotel = hotel_cancel.loc[hotel].sum()\n",
        "    for j, canceled in enumerate([False, True]):\n",
        "        count = hotel_cancel.loc[hotel, canceled]\n",
        "        percent = f\"{count/total_hotel:.1%}\"\n",
        "        axes[1].text(i + (j-0.5)*0.2, count, percent, ha='center', va='bottom', fontsize=10)\n",
        "\n",
        "plt.tight_layout()\n",
        "plt.show()"
      ]
    },
    {
      "cell_type": "markdown",
      "metadata": {},
      "source": [
        "There is a clear difference by hotel type — city hotels have a higher cancellation rate -30.7% than resort hotels -24.8% suggesting customer mix and booking behavior differ across property types (shorter stays, business travel or flexible bookings in city hotels vs more committed leisure stays at resorts)."
      ]
    },
    {
      "cell_type": "code",
      "execution_count": null,
      "metadata": {},
      "outputs": [],
      "source": []
    },
    {
      "cell_type": "markdown",
      "metadata": {},
      "source": [
        "---"
      ]
    },
    {
      "cell_type": "markdown",
      "metadata": {},
      "source": [
        "NOTE"
      ]
    },
    {
      "cell_type": "markdown",
      "metadata": {},
      "source": [
        "* You may add as many sections as you want, as long as it supports your project workflow.\n",
        "* All notebook's cells should be run top-down (you can't create a dynamic wherein a given point you need to go back to a previous cell to execute some task, like go back to a previous cell and refresh a variable content)"
      ]
    },
    {
      "cell_type": "markdown",
      "metadata": {},
      "source": [
        "---"
      ]
    },
    {
      "cell_type": "markdown",
      "metadata": {
        "id": "ltNetd085qHf"
      },
      "source": [
        "# Push files to Repo"
      ]
    },
    {
      "cell_type": "markdown",
      "metadata": {},
      "source": [
        "* In cases where you don't need to push files to Repo, you may replace this section with \"Conclusions and Next Steps\" and state your conclusions and next steps."
      ]
    },
    {
      "cell_type": "code",
      "execution_count": 10,
      "metadata": {
        "id": "aKlnIozA4eQO",
        "outputId": "fd09bc1f-adb1-4511-f6ce-492a6af570c0"
      },
      "outputs": [
        {
          "ename": "IndentationError",
          "evalue": "expected an indented block after 'try' statement on line 2 (553063055.py, line 5)",
          "output_type": "error",
          "traceback": [
            "  \u001b[36mCell\u001b[39m\u001b[36m \u001b[39m\u001b[32mIn[10]\u001b[39m\u001b[32m, line 5\u001b[39m\n\u001b[31m    \u001b[39m\u001b[31mexcept Exception as e:\u001b[39m\n    ^\n\u001b[31mIndentationError\u001b[39m\u001b[31m:\u001b[39m expected an indented block after 'try' statement on line 2\n"
          ]
        }
      ],
      "source": [
        "import os\n",
        "try:\n",
        "  # create your folder here\n",
        "  # os.makedirs(name='')\n",
        "except Exception as e:\n",
        "  print(e)\n"
      ]
    }
  ],
  "metadata": {
    "accelerator": "GPU",
    "colab": {
      "name": "Data Practitioner Jupyter Notebook.ipynb",
      "provenance": [],
      "toc_visible": true
    },
    "kernelspec": {
      "display_name": ".venv",
      "language": "python",
      "name": "python3"
    },
    "language_info": {
      "codemirror_mode": {
        "name": "ipython",
        "version": 3
      },
      "file_extension": ".py",
      "mimetype": "text/x-python",
      "name": "python",
      "nbconvert_exporter": "python",
      "pygments_lexer": "ipython3",
      "version": "3.12.8"
    },
    "orig_nbformat": 2
  },
  "nbformat": 4,
  "nbformat_minor": 2
}
